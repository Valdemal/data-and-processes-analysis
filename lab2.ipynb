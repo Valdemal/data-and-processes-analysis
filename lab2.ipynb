{
 "cells": [
  {
   "metadata": {},
   "cell_type": "markdown",
   "source": [
    "# Анализ данных и процессов\n",
    "## Лабораторная работа №2. Муха в треугольнике.\n",
    "### Исходные данные.\n",
    "Имеется треугольник с вершинами A, B, C. В начальный момент времени муха находится в вершине A. Каждую секунду муха перелетает в другую вершину или остается на месте. Ее поведение задается графом марковского процесса (смотри приложенный рисунок).\n",
    "\n",
    "![](media/fly.png)"
   ],
   "id": "104706554324c304"
  },
  {
   "metadata": {
    "ExecuteTime": {
     "end_time": "2025-05-05T16:42:44.846531Z",
     "start_time": "2025-05-05T16:42:44.836031Z"
    }
   },
   "cell_type": "code",
   "source": [
    "import numpy as np\n",
    "import pandas as pd\n",
    "\n",
    "i, j, k = 2, 3, 1\n",
    "\n",
    "p = np.array([\n",
    "    [0, j / (j + k), k / (j + k)],\n",
    "    [i / (i + j), 0, j / (i + j)],\n",
    "    [i / (i + j + k), j / (i + j + k), k / (i + j + k)]\n",
    "])\n",
    "\n",
    "LABELS = [\"A\", \"B\", \"C\"]\n",
    "\n",
    "pd.DataFrame(p, index=LABELS, columns=LABELS)"
   ],
   "id": "31e5343fcf4264ee",
   "outputs": [
    {
     "data": {
      "text/plain": [
       "          A     B         C\n",
       "A  0.000000  0.75  0.250000\n",
       "B  0.400000  0.00  0.600000\n",
       "C  0.333333  0.50  0.166667"
      ],
      "text/html": [
       "<div>\n",
       "<style scoped>\n",
       "    .dataframe tbody tr th:only-of-type {\n",
       "        vertical-align: middle;\n",
       "    }\n",
       "\n",
       "    .dataframe tbody tr th {\n",
       "        vertical-align: top;\n",
       "    }\n",
       "\n",
       "    .dataframe thead th {\n",
       "        text-align: right;\n",
       "    }\n",
       "</style>\n",
       "<table border=\"1\" class=\"dataframe\">\n",
       "  <thead>\n",
       "    <tr style=\"text-align: right;\">\n",
       "      <th></th>\n",
       "      <th>A</th>\n",
       "      <th>B</th>\n",
       "      <th>C</th>\n",
       "    </tr>\n",
       "  </thead>\n",
       "  <tbody>\n",
       "    <tr>\n",
       "      <th>A</th>\n",
       "      <td>0.000000</td>\n",
       "      <td>0.75</td>\n",
       "      <td>0.250000</td>\n",
       "    </tr>\n",
       "    <tr>\n",
       "      <th>B</th>\n",
       "      <td>0.400000</td>\n",
       "      <td>0.00</td>\n",
       "      <td>0.600000</td>\n",
       "    </tr>\n",
       "    <tr>\n",
       "      <th>C</th>\n",
       "      <td>0.333333</td>\n",
       "      <td>0.50</td>\n",
       "      <td>0.166667</td>\n",
       "    </tr>\n",
       "  </tbody>\n",
       "</table>\n",
       "</div>"
      ]
     },
     "execution_count": 227,
     "metadata": {},
     "output_type": "execute_result"
    }
   ],
   "execution_count": 227
  },
  {
   "metadata": {},
   "cell_type": "markdown",
   "source": "### Задание 1. Необходимо определить среднее время, через которое муха вернётся в вершину А",
   "id": "fa373d1321082350"
  },
  {
   "metadata": {},
   "cell_type": "markdown",
   "source": "#### Составление системы уравнений",
   "id": "1dabf52673bf3673"
  },
  {
   "metadata": {
    "ExecuteTime": {
     "end_time": "2025-05-05T16:42:44.980528Z",
     "start_time": "2025-05-05T16:42:44.969528Z"
    }
   },
   "cell_type": "code",
   "source": [
    "EQ_LABELS = ['x', 'y', 'z', 'Свободный коэффициент']\n",
    "\n",
    "a = np.append(\n",
    "    np.vstack([p.transpose(), [1] * len(p)]),\n",
    "    np.zeros((len(p) + 1, 1)), axis=1\n",
    ") - np.eye(len(p) + 1)\n",
    "\n",
    "pd.DataFrame(a, columns=EQ_LABELS)"
   ],
   "id": "6d38341aafd727f4",
   "outputs": [
    {
     "data": {
      "text/plain": [
       "      x    y         z  Свободный коэффициент\n",
       "0 -1.00  0.4  0.333333                    0.0\n",
       "1  0.75 -1.0  0.500000                    0.0\n",
       "2  0.25  0.6 -0.833333                    0.0\n",
       "3  1.00  1.0  1.000000                   -1.0"
      ],
      "text/html": [
       "<div>\n",
       "<style scoped>\n",
       "    .dataframe tbody tr th:only-of-type {\n",
       "        vertical-align: middle;\n",
       "    }\n",
       "\n",
       "    .dataframe tbody tr th {\n",
       "        vertical-align: top;\n",
       "    }\n",
       "\n",
       "    .dataframe thead th {\n",
       "        text-align: right;\n",
       "    }\n",
       "</style>\n",
       "<table border=\"1\" class=\"dataframe\">\n",
       "  <thead>\n",
       "    <tr style=\"text-align: right;\">\n",
       "      <th></th>\n",
       "      <th>x</th>\n",
       "      <th>y</th>\n",
       "      <th>z</th>\n",
       "      <th>Свободный коэффициент</th>\n",
       "    </tr>\n",
       "  </thead>\n",
       "  <tbody>\n",
       "    <tr>\n",
       "      <th>0</th>\n",
       "      <td>-1.00</td>\n",
       "      <td>0.4</td>\n",
       "      <td>0.333333</td>\n",
       "      <td>0.0</td>\n",
       "    </tr>\n",
       "    <tr>\n",
       "      <th>1</th>\n",
       "      <td>0.75</td>\n",
       "      <td>-1.0</td>\n",
       "      <td>0.500000</td>\n",
       "      <td>0.0</td>\n",
       "    </tr>\n",
       "    <tr>\n",
       "      <th>2</th>\n",
       "      <td>0.25</td>\n",
       "      <td>0.6</td>\n",
       "      <td>-0.833333</td>\n",
       "      <td>0.0</td>\n",
       "    </tr>\n",
       "    <tr>\n",
       "      <th>3</th>\n",
       "      <td>1.00</td>\n",
       "      <td>1.0</td>\n",
       "      <td>1.000000</td>\n",
       "      <td>-1.0</td>\n",
       "    </tr>\n",
       "  </tbody>\n",
       "</table>\n",
       "</div>"
      ]
     },
     "execution_count": 228,
     "metadata": {},
     "output_type": "execute_result"
    }
   ],
   "execution_count": 228
  },
  {
   "metadata": {},
   "cell_type": "markdown",
   "source": "#### Преобразование системы уравнений",
   "id": "a2dad4c95a2e5fc9"
  },
  {
   "metadata": {
    "ExecuteTime": {
     "end_time": "2025-05-05T16:42:45.084029Z",
     "start_time": "2025-05-05T16:42:45.072029Z"
    }
   },
   "cell_type": "code",
   "source": [
    "def to_upper_triangular(matrix):\n",
    "    # Копируем матрицу, чтобы не изменять оригинал\n",
    "    a = matrix.copy()\n",
    "    rows, cols = a.shape\n",
    "\n",
    "    for i in range(rows):\n",
    "        # Находим ведущий элемент\n",
    "        pivot = a[i, i]\n",
    "        if pivot == 0:\n",
    "            continue  # Если ведущий элемент равен нулю, пропускаем итерацию\n",
    "\n",
    "        for j in range(i + 1, rows):\n",
    "            # Вычисляем коэффициент для обнуления элемента ниже ведущего\n",
    "            factor = a[j, i] / pivot\n",
    "            a[j] = a[j] - factor * a[i]\n",
    "\n",
    "    return a\n",
    "\n",
    "\n",
    "a = np.delete(to_upper_triangular(a), len(a) - 2, axis=0)\n",
    "pd.DataFrame(a, columns=EQ_LABELS)\n"
   ],
   "id": "c985a073925e05d3",
   "outputs": [
    {
     "data": {
      "text/plain": [
       "     x    y         z  Свободный коэффициент\n",
       "0 -1.0  0.4  0.333333                    0.0\n",
       "1  0.0 -0.7  0.750000                    0.0\n",
       "2  0.0  0.0  2.833333                   -1.0"
      ],
      "text/html": [
       "<div>\n",
       "<style scoped>\n",
       "    .dataframe tbody tr th:only-of-type {\n",
       "        vertical-align: middle;\n",
       "    }\n",
       "\n",
       "    .dataframe tbody tr th {\n",
       "        vertical-align: top;\n",
       "    }\n",
       "\n",
       "    .dataframe thead th {\n",
       "        text-align: right;\n",
       "    }\n",
       "</style>\n",
       "<table border=\"1\" class=\"dataframe\">\n",
       "  <thead>\n",
       "    <tr style=\"text-align: right;\">\n",
       "      <th></th>\n",
       "      <th>x</th>\n",
       "      <th>y</th>\n",
       "      <th>z</th>\n",
       "      <th>Свободный коэффициент</th>\n",
       "    </tr>\n",
       "  </thead>\n",
       "  <tbody>\n",
       "    <tr>\n",
       "      <th>0</th>\n",
       "      <td>-1.0</td>\n",
       "      <td>0.4</td>\n",
       "      <td>0.333333</td>\n",
       "      <td>0.0</td>\n",
       "    </tr>\n",
       "    <tr>\n",
       "      <th>1</th>\n",
       "      <td>0.0</td>\n",
       "      <td>-0.7</td>\n",
       "      <td>0.750000</td>\n",
       "      <td>0.0</td>\n",
       "    </tr>\n",
       "    <tr>\n",
       "      <th>2</th>\n",
       "      <td>0.0</td>\n",
       "      <td>0.0</td>\n",
       "      <td>2.833333</td>\n",
       "      <td>-1.0</td>\n",
       "    </tr>\n",
       "  </tbody>\n",
       "</table>\n",
       "</div>"
      ]
     },
     "execution_count": 229,
     "metadata": {},
     "output_type": "execute_result"
    }
   ],
   "execution_count": 229
  },
  {
   "metadata": {},
   "cell_type": "markdown",
   "source": "#### Решение системы уравнений",
   "id": "2defd2e5104f5f5b"
  },
  {
   "metadata": {
    "ExecuteTime": {
     "end_time": "2025-05-05T16:42:45.266032Z",
     "start_time": "2025-05-05T16:42:45.259529Z"
    }
   },
   "cell_type": "code",
   "source": [
    "b = -a[:,-1]\n",
    "a = np.delete(a, -1, axis=1)\n",
    "solvation = np.linalg.solve(a, b)\n",
    "for i, label in enumerate(EQ_LABELS[:-1]):\n",
    "    print(f'{label} = {solvation[i]}')"
   ],
   "id": "d1a1a8e6f9f1d559",
   "outputs": [
    {
     "name": "stdout",
     "output_type": "stream",
     "text": [
      "x = 0.26890756302521013\n",
      "y = 0.3781512605042017\n",
      "z = 0.35294117647058826\n"
     ]
    }
   ],
   "execution_count": 230
  },
  {
   "metadata": {},
   "cell_type": "markdown",
   "source": "#### Среднее количество переходов до возвращения",
   "id": "ac084ce5aafb0e8c"
  },
  {
   "metadata": {
    "ExecuteTime": {
     "end_time": "2025-05-05T16:42:45.490191Z",
     "start_time": "2025-05-05T16:42:45.484688Z"
    }
   },
   "cell_type": "code",
   "source": [
    "for i, label in enumerate(LABELS):\n",
    "    print(f'{label} = {1 / solvation[i]}')"
   ],
   "id": "53a7a6040cd33d9f",
   "outputs": [
    {
     "name": "stdout",
     "output_type": "stream",
     "text": [
      "A = 3.7187499999999996\n",
      "B = 2.644444444444444\n",
      "C = 2.833333333333333\n"
     ]
    }
   ],
   "execution_count": 231
  },
  {
   "metadata": {},
   "cell_type": "markdown",
   "source": "### Задание 2. Написать программу, которая имитирует поведение мухи и выводит среднее количество переходов до первого возвращения в точку А. Сравните результаты.",
   "id": "7afd76c7b4818260"
  },
  {
   "metadata": {},
   "cell_type": "markdown",
   "source": "#### Класс симулятора",
   "id": "3727cfe3b430a109"
  },
  {
   "metadata": {
    "ExecuteTime": {
     "end_time": "2025-05-05T16:42:45.644193Z",
     "start_time": "2025-05-05T16:42:45.636694Z"
    }
   },
   "cell_type": "code",
   "source": [
    "class Simulator:\n",
    "    def __init__(self, move_matrix: np.ndarray):\n",
    "        self._move_matrix = move_matrix\n",
    "\n",
    "    def __call__(self, initial_state: int, iters: int) -> list:\n",
    "        state_counts = [0] * len(self._move_matrix)\n",
    "        current_state = initial_state\n",
    "        \n",
    "        for _ in range(iters):\n",
    "            state_counts[current_state] += 1\n",
    "            current_state = self._change_state(current_state)\n",
    "                \n",
    "        return state_counts\n",
    "\n",
    "    def _change_state(self, current_state: int) -> int:\n",
    "        seed, cumulative_probability = np.random.random(), 0\n",
    "\n",
    "        for index, probability in enumerate(self._move_matrix[current_state]):\n",
    "            cumulative_probability += probability\n",
    "            if seed < cumulative_probability:\n",
    "                return index\n",
    "          "
   ],
   "id": "fead1fb4a445afe9",
   "outputs": [],
   "execution_count": 232
  },
  {
   "metadata": {},
   "cell_type": "markdown",
   "source": "#### Имитация поведения мухи",
   "id": "a5ce55024b08264b"
  },
  {
   "metadata": {
    "ExecuteTime": {
     "end_time": "2025-05-05T16:42:45.750188Z",
     "start_time": "2025-05-05T16:42:45.719208Z"
    }
   },
   "cell_type": "code",
   "source": [
    "simulator = Simulator(p)\n",
    "initial_state = 0\n",
    "N = 10000\n",
    "\n",
    "counts = simulator(initial_state, N)\n",
    "\n",
    "print(\"Число посещений вершин\")\n",
    "for i, label in enumerate(LABELS):\n",
    "    print(f\"{label}: {counts[i]}\")\n",
    "\n",
    "print(f\"Среднее количество переходов до возвращения\")\n",
    "for i, label in enumerate(LABELS):\n",
    "    print(f\"{LABELS[i]} = {N / counts[i]}\")"
   ],
   "id": "1c0ebac239a1ae2f",
   "outputs": [
    {
     "name": "stdout",
     "output_type": "stream",
     "text": [
      "Число посещений вершин\n",
      "A: 2689\n",
      "B: 3754\n",
      "C: 3557\n",
      "Среднее количество переходов до возвращения\n",
      "A = 3.718854592785422\n",
      "B = 2.6638252530633992\n",
      "C = 2.81135788585887\n"
     ]
    }
   ],
   "execution_count": 233
  },
  {
   "metadata": {},
   "cell_type": "markdown",
   "source": [
    "## Вывод\n",
    "В ходе выполнения лабораторной работы была решена задача \"Муха в треугольнике\" с помощью эргодических цепей Маркова. Сначала были получены теоретические(ожидаемые) значения среднего количества переходов до возвращения для каждой вершины. Затем были получены эмпирические значения с помощью программы имитирующей поведение мухи. Полученные значения совпали с точностью до 10-х. "
   ],
   "id": "2420ebc8b136f10b"
  }
 ],
 "metadata": {
  "kernelspec": {
   "display_name": "Python 3",
   "language": "python",
   "name": "python3"
  },
  "language_info": {
   "codemirror_mode": {
    "name": "ipython",
    "version": 2
   },
   "file_extension": ".py",
   "mimetype": "text/x-python",
   "name": "python",
   "nbconvert_exporter": "python",
   "pygments_lexer": "ipython2",
   "version": "2.7.6"
  }
 },
 "nbformat": 4,
 "nbformat_minor": 5
}
