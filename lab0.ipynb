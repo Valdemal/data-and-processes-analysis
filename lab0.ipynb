{
 "cells": [
  {
   "metadata": {},
   "cell_type": "markdown",
   "source": [
    "## Лабораторная работа №0 \"О росте больных ковидом\"\n",
    "\n",
    "#### Выполнил студент группы МПИ-241 Нехаенко Владимир\n",
    "\n",
    "#### Вариант 9. С ноября 2020 по февраль 2021"
   ],
   "id": "68e8c994007eaad6"
  },
  {
   "metadata": {
    "ExecuteTime": {
     "end_time": "2024-11-02T09:57:34.550911Z",
     "start_time": "2024-11-02T09:57:34.546909Z"
    }
   },
   "cell_type": "code",
   "source": [
    "import math\n",
    "from datetime import date\n",
    "\n",
    "import numpy as np\n",
    "import pandas as pd\n",
    "from dateutil.relativedelta import relativedelta\n",
    "from matplotlib import pyplot as plt"
   ],
   "id": "a272b7ab7c9c7ded",
   "outputs": [],
   "execution_count": 122
  },
  {
   "metadata": {},
   "cell_type": "markdown",
   "source": "#### Подготовка данных",
   "id": "8384a5841a75d31f"
  },
  {
   "metadata": {
    "ExecuteTime": {
     "end_time": "2024-11-02T09:57:34.625405Z",
     "start_time": "2024-11-02T09:57:34.593414Z"
    }
   },
   "cell_type": "code",
   "source": [
    "start_date = date(2020, 11, 1)\n",
    "end_date = start_date + relativedelta(months=3)\n",
    "\n",
    "dataframe = pd.read_csv('datasets/covid-data.csv', ).sort_values('date', ascending=True)\n",
    "dataframe = dataframe[dataframe.apply(lambda row: start_date <= date.fromisoformat(row['date']) <= end_date, axis=1)]\n",
    "dataframe"
   ],
   "id": "99549bf1bc4fd84d",
   "outputs": [
    {
     "data": {
      "text/plain": [
       "           date     death  deathIncrease  inIcuCumulative  inIcuCurrently  \\\n",
       "126  2020-11-01  223035.0            410          24457.0          9665.0   \n",
       "125  2020-11-02  223510.0            475          24560.0          9957.0   \n",
       "124  2020-11-03  225027.0           1517          24796.0         10538.0   \n",
       "123  2020-11-04  226158.0           1131          25041.0         10892.0   \n",
       "122  2020-11-05  227312.0           1154          25276.0         11050.0   \n",
       "..          ...       ...            ...              ...             ...   \n",
       "38   2021-01-28  423645.0           4011          41588.0         20113.0   \n",
       "37   2021-01-29  427148.0           3503          41758.0         19609.0   \n",
       "36   2021-01-30  430130.0           2982          41872.0         19130.0   \n",
       "35   2021-01-31  432189.0           2059          41934.0         18968.0   \n",
       "34   2021-02-01  433751.0           1562          41998.0         18572.0   \n",
       "\n",
       "     hospitalizedIncrease  hospitalizedCurrently  hospitalizedCumulative  \\\n",
       "126                  1166                47615.0                366110.0   \n",
       "125                  1399                48750.0                367509.0   \n",
       "124                  3135                50509.0                370644.0   \n",
       "123                  3107                52166.0                373751.0   \n",
       "122                  2553                53380.0                376304.0   \n",
       "..                    ...                    ...                     ...   \n",
       "38                   3500               104303.0                696547.0   \n",
       "37                   2835               101003.0                699382.0   \n",
       "36                   3147                97561.0                702529.0   \n",
       "35                   2171                95013.0                704700.0   \n",
       "34                   1766                93536.0                706466.0   \n",
       "\n",
       "       negative  negativeIncrease  onVentilatorCumulative  \\\n",
       "126  41504027.0            228603                  2797.0   \n",
       "125  41787471.0            283444                  2809.0   \n",
       "124  42043319.0            255848                  2833.0   \n",
       "123  42245917.0            202598                  2853.0   \n",
       "122  42548344.0            302427                  2872.0   \n",
       "..          ...               ...                     ...   \n",
       "38   66430423.0            269667                  4000.0   \n",
       "37   66714591.0            284168                  4011.0   \n",
       "36   66946890.0            232299                  4016.0   \n",
       "35   67171483.0            224593                  4019.0   \n",
       "34   67516458.0            344975                  4025.0   \n",
       "\n",
       "     onVentilatorCurrently    positive  positiveIncrease  states  \\\n",
       "126                 2553.0   9207091.0            141974      56   \n",
       "125                 2633.0   9290545.0             83454      56   \n",
       "124                 2734.0   9410494.0            119949      56   \n",
       "123                 2832.0   9516490.0            105996      56   \n",
       "122                 2876.0   9635513.0            119023      56   \n",
       "..                     ...         ...               ...     ...   \n",
       "38                  6642.0  25541644.0            157306      56   \n",
       "37                  6483.0  25708755.0            167111      56   \n",
       "36                  6329.0  25857579.0            148824      56   \n",
       "35                  6291.0  25976946.0            119367      56   \n",
       "34                  6086.0  26097146.0            120200      56   \n",
       "\n",
       "     totalTestResults  totalTestResultsIncrease  \n",
       "126         151506495                   1160138  \n",
       "125         152745393                   1238898  \n",
       "124         154014545                   1269152  \n",
       "123         155332996                   1318451  \n",
       "122         156894058                   1561062  \n",
       "..                ...                       ...  \n",
       "38          306066679                   1936761  \n",
       "37          308021780                   1955101  \n",
       "36          310161359                   2139579  \n",
       "35          311887083                   1725724  \n",
       "34          313394628                   1507545  \n",
       "\n",
       "[93 rows x 17 columns]"
      ],
      "text/html": [
       "<div>\n",
       "<style scoped>\n",
       "    .dataframe tbody tr th:only-of-type {\n",
       "        vertical-align: middle;\n",
       "    }\n",
       "\n",
       "    .dataframe tbody tr th {\n",
       "        vertical-align: top;\n",
       "    }\n",
       "\n",
       "    .dataframe thead th {\n",
       "        text-align: right;\n",
       "    }\n",
       "</style>\n",
       "<table border=\"1\" class=\"dataframe\">\n",
       "  <thead>\n",
       "    <tr style=\"text-align: right;\">\n",
       "      <th></th>\n",
       "      <th>date</th>\n",
       "      <th>death</th>\n",
       "      <th>deathIncrease</th>\n",
       "      <th>inIcuCumulative</th>\n",
       "      <th>inIcuCurrently</th>\n",
       "      <th>hospitalizedIncrease</th>\n",
       "      <th>hospitalizedCurrently</th>\n",
       "      <th>hospitalizedCumulative</th>\n",
       "      <th>negative</th>\n",
       "      <th>negativeIncrease</th>\n",
       "      <th>onVentilatorCumulative</th>\n",
       "      <th>onVentilatorCurrently</th>\n",
       "      <th>positive</th>\n",
       "      <th>positiveIncrease</th>\n",
       "      <th>states</th>\n",
       "      <th>totalTestResults</th>\n",
       "      <th>totalTestResultsIncrease</th>\n",
       "    </tr>\n",
       "  </thead>\n",
       "  <tbody>\n",
       "    <tr>\n",
       "      <th>126</th>\n",
       "      <td>2020-11-01</td>\n",
       "      <td>223035.0</td>\n",
       "      <td>410</td>\n",
       "      <td>24457.0</td>\n",
       "      <td>9665.0</td>\n",
       "      <td>1166</td>\n",
       "      <td>47615.0</td>\n",
       "      <td>366110.0</td>\n",
       "      <td>41504027.0</td>\n",
       "      <td>228603</td>\n",
       "      <td>2797.0</td>\n",
       "      <td>2553.0</td>\n",
       "      <td>9207091.0</td>\n",
       "      <td>141974</td>\n",
       "      <td>56</td>\n",
       "      <td>151506495</td>\n",
       "      <td>1160138</td>\n",
       "    </tr>\n",
       "    <tr>\n",
       "      <th>125</th>\n",
       "      <td>2020-11-02</td>\n",
       "      <td>223510.0</td>\n",
       "      <td>475</td>\n",
       "      <td>24560.0</td>\n",
       "      <td>9957.0</td>\n",
       "      <td>1399</td>\n",
       "      <td>48750.0</td>\n",
       "      <td>367509.0</td>\n",
       "      <td>41787471.0</td>\n",
       "      <td>283444</td>\n",
       "      <td>2809.0</td>\n",
       "      <td>2633.0</td>\n",
       "      <td>9290545.0</td>\n",
       "      <td>83454</td>\n",
       "      <td>56</td>\n",
       "      <td>152745393</td>\n",
       "      <td>1238898</td>\n",
       "    </tr>\n",
       "    <tr>\n",
       "      <th>124</th>\n",
       "      <td>2020-11-03</td>\n",
       "      <td>225027.0</td>\n",
       "      <td>1517</td>\n",
       "      <td>24796.0</td>\n",
       "      <td>10538.0</td>\n",
       "      <td>3135</td>\n",
       "      <td>50509.0</td>\n",
       "      <td>370644.0</td>\n",
       "      <td>42043319.0</td>\n",
       "      <td>255848</td>\n",
       "      <td>2833.0</td>\n",
       "      <td>2734.0</td>\n",
       "      <td>9410494.0</td>\n",
       "      <td>119949</td>\n",
       "      <td>56</td>\n",
       "      <td>154014545</td>\n",
       "      <td>1269152</td>\n",
       "    </tr>\n",
       "    <tr>\n",
       "      <th>123</th>\n",
       "      <td>2020-11-04</td>\n",
       "      <td>226158.0</td>\n",
       "      <td>1131</td>\n",
       "      <td>25041.0</td>\n",
       "      <td>10892.0</td>\n",
       "      <td>3107</td>\n",
       "      <td>52166.0</td>\n",
       "      <td>373751.0</td>\n",
       "      <td>42245917.0</td>\n",
       "      <td>202598</td>\n",
       "      <td>2853.0</td>\n",
       "      <td>2832.0</td>\n",
       "      <td>9516490.0</td>\n",
       "      <td>105996</td>\n",
       "      <td>56</td>\n",
       "      <td>155332996</td>\n",
       "      <td>1318451</td>\n",
       "    </tr>\n",
       "    <tr>\n",
       "      <th>122</th>\n",
       "      <td>2020-11-05</td>\n",
       "      <td>227312.0</td>\n",
       "      <td>1154</td>\n",
       "      <td>25276.0</td>\n",
       "      <td>11050.0</td>\n",
       "      <td>2553</td>\n",
       "      <td>53380.0</td>\n",
       "      <td>376304.0</td>\n",
       "      <td>42548344.0</td>\n",
       "      <td>302427</td>\n",
       "      <td>2872.0</td>\n",
       "      <td>2876.0</td>\n",
       "      <td>9635513.0</td>\n",
       "      <td>119023</td>\n",
       "      <td>56</td>\n",
       "      <td>156894058</td>\n",
       "      <td>1561062</td>\n",
       "    </tr>\n",
       "    <tr>\n",
       "      <th>...</th>\n",
       "      <td>...</td>\n",
       "      <td>...</td>\n",
       "      <td>...</td>\n",
       "      <td>...</td>\n",
       "      <td>...</td>\n",
       "      <td>...</td>\n",
       "      <td>...</td>\n",
       "      <td>...</td>\n",
       "      <td>...</td>\n",
       "      <td>...</td>\n",
       "      <td>...</td>\n",
       "      <td>...</td>\n",
       "      <td>...</td>\n",
       "      <td>...</td>\n",
       "      <td>...</td>\n",
       "      <td>...</td>\n",
       "      <td>...</td>\n",
       "    </tr>\n",
       "    <tr>\n",
       "      <th>38</th>\n",
       "      <td>2021-01-28</td>\n",
       "      <td>423645.0</td>\n",
       "      <td>4011</td>\n",
       "      <td>41588.0</td>\n",
       "      <td>20113.0</td>\n",
       "      <td>3500</td>\n",
       "      <td>104303.0</td>\n",
       "      <td>696547.0</td>\n",
       "      <td>66430423.0</td>\n",
       "      <td>269667</td>\n",
       "      <td>4000.0</td>\n",
       "      <td>6642.0</td>\n",
       "      <td>25541644.0</td>\n",
       "      <td>157306</td>\n",
       "      <td>56</td>\n",
       "      <td>306066679</td>\n",
       "      <td>1936761</td>\n",
       "    </tr>\n",
       "    <tr>\n",
       "      <th>37</th>\n",
       "      <td>2021-01-29</td>\n",
       "      <td>427148.0</td>\n",
       "      <td>3503</td>\n",
       "      <td>41758.0</td>\n",
       "      <td>19609.0</td>\n",
       "      <td>2835</td>\n",
       "      <td>101003.0</td>\n",
       "      <td>699382.0</td>\n",
       "      <td>66714591.0</td>\n",
       "      <td>284168</td>\n",
       "      <td>4011.0</td>\n",
       "      <td>6483.0</td>\n",
       "      <td>25708755.0</td>\n",
       "      <td>167111</td>\n",
       "      <td>56</td>\n",
       "      <td>308021780</td>\n",
       "      <td>1955101</td>\n",
       "    </tr>\n",
       "    <tr>\n",
       "      <th>36</th>\n",
       "      <td>2021-01-30</td>\n",
       "      <td>430130.0</td>\n",
       "      <td>2982</td>\n",
       "      <td>41872.0</td>\n",
       "      <td>19130.0</td>\n",
       "      <td>3147</td>\n",
       "      <td>97561.0</td>\n",
       "      <td>702529.0</td>\n",
       "      <td>66946890.0</td>\n",
       "      <td>232299</td>\n",
       "      <td>4016.0</td>\n",
       "      <td>6329.0</td>\n",
       "      <td>25857579.0</td>\n",
       "      <td>148824</td>\n",
       "      <td>56</td>\n",
       "      <td>310161359</td>\n",
       "      <td>2139579</td>\n",
       "    </tr>\n",
       "    <tr>\n",
       "      <th>35</th>\n",
       "      <td>2021-01-31</td>\n",
       "      <td>432189.0</td>\n",
       "      <td>2059</td>\n",
       "      <td>41934.0</td>\n",
       "      <td>18968.0</td>\n",
       "      <td>2171</td>\n",
       "      <td>95013.0</td>\n",
       "      <td>704700.0</td>\n",
       "      <td>67171483.0</td>\n",
       "      <td>224593</td>\n",
       "      <td>4019.0</td>\n",
       "      <td>6291.0</td>\n",
       "      <td>25976946.0</td>\n",
       "      <td>119367</td>\n",
       "      <td>56</td>\n",
       "      <td>311887083</td>\n",
       "      <td>1725724</td>\n",
       "    </tr>\n",
       "    <tr>\n",
       "      <th>34</th>\n",
       "      <td>2021-02-01</td>\n",
       "      <td>433751.0</td>\n",
       "      <td>1562</td>\n",
       "      <td>41998.0</td>\n",
       "      <td>18572.0</td>\n",
       "      <td>1766</td>\n",
       "      <td>93536.0</td>\n",
       "      <td>706466.0</td>\n",
       "      <td>67516458.0</td>\n",
       "      <td>344975</td>\n",
       "      <td>4025.0</td>\n",
       "      <td>6086.0</td>\n",
       "      <td>26097146.0</td>\n",
       "      <td>120200</td>\n",
       "      <td>56</td>\n",
       "      <td>313394628</td>\n",
       "      <td>1507545</td>\n",
       "    </tr>\n",
       "  </tbody>\n",
       "</table>\n",
       "<p>93 rows × 17 columns</p>\n",
       "</div>"
      ]
     },
     "execution_count": 123,
     "metadata": {},
     "output_type": "execute_result"
    }
   ],
   "execution_count": 123
  },
  {
   "metadata": {
    "ExecuteTime": {
     "end_time": "2024-11-02T09:57:34.841909Z",
     "start_time": "2024-11-02T09:57:34.691908Z"
    }
   },
   "cell_type": "code",
   "source": [
    "x = dataframe['positiveIncrease'].to_numpy()\n",
    "t = np.array(range(1, len(x)+1))\n",
    "\n",
    "plt.xlabel(\"День\")\n",
    "plt.ylabel(\"Количество новых заболевших\")\n",
    "plt.grid()\n",
    "plt.plot(t, x, \"rx\")"
   ],
   "id": "5b6b0f0999214684",
   "outputs": [
    {
     "data": {
      "text/plain": [
       "[<matplotlib.lines.Line2D at 0x20f6aea82c0>]"
      ]
     },
     "execution_count": 124,
     "metadata": {},
     "output_type": "execute_result"
    },
    {
     "data": {
      "text/plain": [
       "<Figure size 640x480 with 1 Axes>"
      ],
      "image/png": "[encoded data removed]"
     },
     "metadata": {},
     "output_type": "display_data"
    }
   ],
   "execution_count": 124
  },
  {
   "metadata": {},
   "cell_type": "markdown",
   "source": "#### Решение из курса \"Методы анализа данных\"",
   "id": "3e4f24620c212613"
  },
  {
   "metadata": {
    "ExecuteTime": {
     "end_time": "2024-11-02T09:57:34.923408Z",
     "start_time": "2024-11-02T09:57:34.912410Z"
    }
   },
   "cell_type": "code",
   "source": [
    "y = np.array(list(map(math.log, x)))\n",
    "ty = t * y\n",
    "\n",
    "t_mean = t.mean()\n",
    "y_mean = y.mean()\n",
    "ty_mean = ty.mean()\n",
    "\n",
    "cov = ty_mean - t_mean * y_mean\n",
    "\n",
    "t2 = t ** 2\n",
    "dt = t2.mean() - t_mean ** 2\n",
    "\n",
    "b = cov / dt\n",
    "a = y_mean - b * t_mean\n",
    "print(a, b)"
   ],
   "id": "dcad0f31c5cecc80",
   "outputs": [
    {
     "name": "stdout",
     "output_type": "stream",
     "text": [
      "11.944904244044483 0.0030866538277854313\n"
     ]
    }
   ],
   "execution_count": 125
  },
  {
   "metadata": {
    "ExecuteTime": {
     "end_time": "2024-11-02T09:57:35.128411Z",
     "start_time": "2024-11-02T09:57:35.006408Z"
    }
   },
   "cell_type": "code",
   "source": [
    "def approximate(t, a, b):\n",
    "    exp_a = math.exp(a)\n",
    "    return np.array(list(map(lambda ti: exp_a * math.exp(b * ti), t)))\n",
    "\n",
    "def show_approximation(x, t, z): \n",
    "    plt.plot(t, x, 'rx', label='Fact')\n",
    "    plt.plot(t, z, 'b-', label='Approx')\n",
    "    plt.legend()\n",
    "    plt.show()\n",
    "\n",
    "z = approximate(t, a, b)\n",
    "show_approximation(x, t, z)"
   ],
   "id": "d86d29064d681e62",
   "outputs": [
    {
     "data": {
      "text/plain": [
       "<Figure size 640x480 with 1 Axes>"
      ],
      "image/png": "[encoded data removed]"
     },
     "metadata": {},
     "output_type": "display_data"
    }
   ],
   "execution_count": 126
  },
  {
   "metadata": {},
   "cell_type": "markdown",
   "source": [
    "#### Решение методом градиентного спуска\n",
    "\n",
    "Функция линейной регрессии имеет вид: $f = \\sum_{i=0}^{n} (y_i - (a + bt_i))^2 \\rightarrow min$\n",
    "\n",
    "Пусть $g = (y_i - (a + bt_i))^2 = y_i^2 - 2y_i(a + bt_i) + (a + bt_i)^2 = y_i^2 - 2y_ia - 2y_it_ib + a^2 + 2abt_i + b^2t_i^2 $,\\\n",
    " тогда $f = \\sum_{i=0}^{n} g \\rightarrow min$\\\n",
    " \n",
    "Вычислим частные производные по $a$:\\\n",
    "$\\frac{\\partial g}{\\partial a} = -2y_i + 2a + 2bt_i = -2(y_i - a - bt_i)$\\\n",
    "$\\frac{\\partial f}{\\partial a} = -2\\sum_{i=0}^{n} y_i - a - bt_i$\n",
    "\n",
    "Вычислим частные производные по $b$:\\\n",
    "$\\frac{\\partial g}{\\partial b} = - 2y_it_i + 2at_i + 2bt_i^2 = - 2t_i(y_i - a - bt_i) $\\\n",
    "$\\frac{\\partial f}{\\partial b} = -2\\sum_{i=0}^{n} t_i(y_i - a - bt_i) $\n",
    "\n",
    "Градиент\n",
    "$\\nabla f = (\\frac{\\partial f}{\\partial a}, \\frac{\\partial f}{\\partial b}) = (-2\\sum_{i=0}^{n} y_i - a - bt_i, -2\\sum_{i=0}^{n} t_i(y_i - a - bt_i)$"
   ],
   "id": "3779157bc93cb52f"
  },
  {
   "metadata": {
    "ExecuteTime": {
     "end_time": "2024-11-02T12:06:11.148002Z",
     "start_time": "2024-11-02T12:06:11.141511Z"
    }
   },
   "cell_type": "code",
   "source": [
    "import math\n",
    "\n",
    "\n",
    "def df_da(a, b, y, t):\n",
    "    def dg_da(yi, ti):\n",
    "        return -2 * (yi - a - ti * b)\n",
    "\n",
    "    return np.sum(np.fromiter(map(dg_da, y, t), dtype=float))\n",
    "\n",
    "\n",
    "def df_db(a, b, y, t):\n",
    "    def dg_db(yi, ti):\n",
    "        return -2 * ti * (yi - a - ti * b)\n",
    "\n",
    "    return np.sum(np.fromiter(map(dg_db, y, t), dtype=float))\n",
    "\n",
    "\n",
    "def grad(a, b, y, t):\n",
    "    return [df_da(a, b, y, t), df_db(a, b, y, t)]"
   ],
   "id": "6b4bc5e24611f807",
   "outputs": [],
   "execution_count": 204
  },
  {
   "metadata": {},
   "cell_type": "markdown",
   "source": "#### Реализация градиентного спуска",
   "id": "b26b530602e9e012"
  },
  {
   "metadata": {
    "ExecuteTime": {
     "end_time": "2024-11-02T12:06:14.832670Z",
     "start_time": "2024-11-02T12:06:14.826173Z"
    }
   },
   "cell_type": "code",
   "source": [
    "class GradientDescent:\n",
    "    def __init__(self, learning_rate: float, iterations_count: int, epsilon: float = 1e-06):\n",
    "        self._learning_rate = learning_rate\n",
    "        self._iterations_count = iterations_count\n",
    "        self._epsilon = epsilon\n",
    "\n",
    "    def __call__(self, y, t, start_a, start_b):\n",
    "        params = np.array([start_a, start_b])\n",
    "    \n",
    "        for _ in range(self._iterations_count):\n",
    "            params_shift = -self._learning_rate * np.array(grad(params[0], params[1], y, t))\n",
    "            if np.all(np.abs(params_shift) <= self._epsilon):\n",
    "                break\n",
    "            params = np.add(params, params_shift)\n",
    "        \n",
    "        return params"
   ],
   "id": "9c0aeedaa0873b3e",
   "outputs": [],
   "execution_count": 205
  },
  {
   "metadata": {},
   "cell_type": "markdown",
   "source": "#### Вычисление с помощью градиентного спуска",
   "id": "135dbac5c4f194cc"
  },
  {
   "metadata": {
    "ExecuteTime": {
     "end_time": "2024-11-02T12:18:07.460164Z",
     "start_time": "2024-11-02T12:17:49.202160Z"
    }
   },
   "cell_type": "code",
   "source": [
    "gradient_descent = GradientDescent(learning_rate=3.5e-6, iterations_count=100000, epsilon=1e-16)\n",
    "a, b = gradient_descent(y, t, start_a=0, start_b=0)\n",
    "print(a, b)"
   ],
   "id": "26957e7f05ecc89f",
   "outputs": [
    {
     "name": "stdout",
     "output_type": "stream",
     "text": [
      "11.94490291496156 0.0030866751517614074\n"
     ]
    }
   ],
   "execution_count": 215
  },
  {
   "metadata": {
    "ExecuteTime": {
     "end_time": "2024-11-02T12:18:13.552180Z",
     "start_time": "2024-11-02T12:18:13.440688Z"
    }
   },
   "cell_type": "code",
   "source": [
    "z = approximate(t, a, b)\n",
    "show_approximation(x, t, z)"
   ],
   "id": "c56438424cf70163",
   "outputs": [
    {
     "data": {
      "text/plain": [
       "<Figure size 640x480 with 1 Axes>"
      ],
      "image/png": "[encoded data removed]"
     },
     "metadata": {},
     "output_type": "display_data"
    }
   ],
   "execution_count": 216
  },
  {
   "metadata": {},
   "cell_type": "markdown",
   "source": "#### Проверка гипотезы о виде распределения с помощью критерия $X^2$",
   "id": "221f7855d18fbb60"
  },
  {
   "metadata": {
    "ExecuteTime": {
     "end_time": "2024-11-02T12:18:15.354465Z",
     "start_time": "2024-11-02T12:18:15.338961Z"
    }
   },
   "cell_type": "code",
   "source": [
    "from scipy.stats import norm, chisquare\n",
    "from itertools import product\n",
    "\n",
    "eps = A * np.array(list(map(lambda ti: math.exp(b * ti), t))) - x\n",
    "eps2 = eps ** 2\n",
    "\n",
    "sigma = math.sqrt(eps2.mean() - eps.mean())\n",
    "\n",
    "s = math.trunc(math.log2(len(x))) + 1\n",
    "\n",
    "# Разбиение на интервалы\n",
    "step = (eps.max() - eps.min()) / s\n",
    "edges = [eps.min()]\n",
    "\n",
    "for i in range(1, s + 1):\n",
    "    edges.append(edges[i-1] + step)\n",
    "\n",
    "edges[0] = -math.inf\n",
    "edges.append(math.inf)\n",
    "\n",
    "# Вычисление фактических частот\n",
    "count = [0] * len(edges)\n",
    "\n",
    "for i, j in product(range(1, len(edges)), eps):\n",
    "    if edges[i-1] <= j < edges[i]:\n",
    "        count[i] += 1\n",
    "\n",
    "count.pop(0)\n",
    "\n",
    "# Вычисление теоретических частот\n",
    "p = [norm.cdf(edges[i] / sigma) - norm.cdf(edges[i-1] / sigma) for i in range(1, len(edges))]\n",
    "n_t = np.array(p) * len(t)\n",
    "\n",
    "k, p = chisquare(count, n_t, ddof=1)\n",
    "\n",
    "print('k =', k)\n",
    "print('p =', p)\n",
    "\n",
    "if p > 0.05:\n",
    "    print('Гипотеза подтверждается')\n",
    "else:\n",
    "    print('Гипотеза не подтверждается')"
   ],
   "id": "3f6a6b54f9f087f8",
   "outputs": [
    {
     "name": "stdout",
     "output_type": "stream",
     "text": [
      "k = 3.427121695943479\n",
      "p = 0.7536392348422628\n",
      "Гипотеза подтверждается\n"
     ]
    }
   ],
   "execution_count": 217
  },
  {
   "metadata": {},
   "cell_type": "markdown",
   "source": [
    "#### Сравнение результатов\n",
    "|   | Метод наименьших квадратов | Градиентный спуск     |\n",
    "|---|----------------------------|-----------------------|\n",
    "| a | 11.944904244044483         | 11.94490291496156     |\n",
    "| b | 0.0030866538277854313      | 0.0030866751517614074 |\n",
    "| p | 0.6604926118456349         | 0.7536392348422628    |\n",
    "\n",
    "Значения параметров $a$ и $b$ в обоих случаях практически идентичны, однако коэффициент значимости $p$ полученный градиентным спуском выше, чем полученный методом наименьших квадратов, что может свидетельствовать о том, что градиентный спуск с оптимальными параметрами может быть эффективнее, чем метод наименьших квадратов.\n",
    "\n",
    "#### Вывод\n",
    "\n",
    "В ходе лабораторной работы были проанализированы данные о числе больных COVID-19 в мире за 3 месяца, а также проверена гипотеза о том, что рост числа больных описывается экспоненциальной функцией. Данная задача была решена с использованием градиентного спуска. Гипотеза подтвердилась. Было проведено сравнение текущих результатов с полученными методом наименьших квадратов."
   ],
   "id": "7e32a3aee81839d3"
  }
 ],
 "metadata": {
  "kernelspec": {
   "display_name": "Python 3",
   "language": "python",
   "name": "python3"
  },
  "language_info": {
   "codemirror_mode": {
    "name": "ipython",
    "version": 2
   },
   "file_extension": ".py",
   "mimetype": "text/x-python",
   "name": "python",
   "nbconvert_exporter": "python",
   "pygments_lexer": "ipython2",
   "version": "2.7.6"
  }
 },
 "nbformat": 4,
 "nbformat_minor": 5
}
