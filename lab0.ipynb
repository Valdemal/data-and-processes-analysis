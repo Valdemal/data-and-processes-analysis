{
 "cells": [
  {
   "metadata": {},
   "cell_type": "markdown",
   "source": [
    "# Анализ данных и процессов\n",
    "## Лабораторная работа №0. Игра в имитацию.\n",
    "### Задание 1.\n",
    "Дискретная случайная величина ξ принимает значения 0, 1, 2 и 3 с вероятностями соответствующими данным варианта. Используя генератор псевдослучайных чисел, получить 10000 чисел, имитирующих поведение ξ. Вывести значения частот появления значений 0, 1, 2 и 3. Проверить на уровне значимости 0,05 соответствие полученных данных распределению ξ, используя критерий сравнения долей. Вероятности: р0=i/2*(i+j+k), р1=(j+k)/2*(i+j+k), р2=(i+k)/2*(i+j+k), р3=j/2*(i+j+k). Значения i, j, k являются последними тремя цифрами зачетки. Если какая-то из этих трех цифр равна 0, то вместо 0 берется 10."
   ],
   "id": "84272d1edbd26db3"
  },
  {
   "metadata": {
    "ExecuteTime": {
     "end_time": "2025-05-03T20:57:32.751705Z",
     "start_time": "2025-05-03T20:57:32.745202Z"
    }
   },
   "cell_type": "code",
   "source": [
    "import numpy as np\n",
    "from scipy.stats import chisquare\n",
    "\n",
    "i, j, quantile = 2, 3, 1\n",
    "\n",
    "p = np.array([\n",
    "    i / (2 * (i + j + quantile)),\n",
    "    (i + quantile) / (2 * (i + j + quantile)),\n",
    "    (j + quantile) / (2 * (i + j + quantile)),\n",
    "    j / (2 * (i + j + quantile))\n",
    "])\n",
    "print('(' + ', '.join(map(str, p)) + ')')"
   ],
   "id": "57492c6b4078b368",
   "outputs": [
    {
     "name": "stdout",
     "output_type": "stream",
     "text": [
      "(0.16666666666666666, 0.25, 0.3333333333333333, 0.25)\n"
     ]
    }
   ],
   "execution_count": 357
  },
  {
   "metadata": {
    "ExecuteTime": {
     "end_time": "2025-05-03T20:57:32.775201Z",
     "start_time": "2025-05-03T20:57:32.770199Z"
    }
   },
   "cell_type": "code",
   "source": [
    "thresholds = np.array([sum(p[:i]) for i in range(1, len(p) + 1)])\n",
    "\n",
    "N = 10000\n",
    "\n",
    "y = np.random.rand(N)\n",
    "x = np.digitize(y, thresholds)"
   ],
   "id": "fdcb61bf4cf96358",
   "outputs": [],
   "execution_count": 358
  },
  {
   "metadata": {
    "ExecuteTime": {
     "end_time": "2025-05-03T20:57:32.955195Z",
     "start_time": "2025-05-03T20:57:32.809203Z"
    }
   },
   "cell_type": "code",
   "source": [
    "from collections import Counter\n",
    "import matplotlib.pyplot as plt\n",
    "\n",
    "c = Counter(x)\n",
    "s_keys = list(range(len(c)))\n",
    "s_values = np.array([c[key] for key in s_keys])\n",
    "\n",
    "plt.bar(s_keys, s_values)\n",
    "plt.xticks(range(len(s_keys)), s_keys)\n",
    "plt.show()\n",
    "print(\"Полученные частоты: \", s_values)"
   ],
   "id": "fd391ba339ecd9f7",
   "outputs": [
    {
     "data": {
      "text/plain": [
       "<Figure size 640x480 with 1 Axes>"
      ],
      "image/png": "[encoded data removed]"
     },
     "metadata": {},
     "output_type": "display_data"
    },
    {
     "name": "stdout",
     "output_type": "stream",
     "text": [
      "Полученные частоты:  [1675 2525 3308 2492]\n"
     ]
    }
   ],
   "execution_count": 359
  },
  {
   "metadata": {},
   "cell_type": "markdown",
   "source": "#### Проверка гипотезы сравнением долей ",
   "id": "8189e0b865bcdcaf"
  },
  {
   "metadata": {
    "ExecuteTime": {
     "end_time": "2025-05-03T20:57:33.029199Z",
     "start_time": "2025-05-03T20:57:33.022206Z"
    }
   },
   "cell_type": "code",
   "source": [
    "quantile = 1.96  # Квантиль нормального распределения\n",
    "\n",
    "p_fact = s_values / N\n",
    "\n",
    "if all(map(\n",
    "        lambda pair: np.abs((pair[1] - pair[0]) / np.sqrt(pair[1] * (1 - pair[1]) / N)) <= quantile,\n",
    "        zip(p, p_fact))\n",
    "):\n",
    "    print(\"Гипотеза принимается.\")\n",
    "else:\n",
    "    print(\"Гипотеза отвергается\")\n"
   ],
   "id": "76b308f5b11934bb",
   "outputs": [
    {
     "name": "stdout",
     "output_type": "stream",
     "text": [
      "Гипотеза принимается.\n"
     ]
    }
   ],
   "execution_count": 360
  },
  {
   "metadata": {},
   "cell_type": "markdown",
   "source": "#### Проверка гипотезы с помощью критерия $\\chi^2$",
   "id": "3551c5ad2c61bd9a"
  },
  {
   "metadata": {
    "ExecuteTime": {
     "end_time": "2025-05-03T20:57:33.069200Z",
     "start_time": "2025-05-03T20:57:33.062202Z"
    }
   },
   "cell_type": "code",
   "source": [
    "THRESHOLD = 0.05\n",
    "\n",
    "k, p = chisquare(s_values, p * N)\n",
    "\n",
    "print(f\"K = {k}\")\n",
    "print(f\"p = {p}\")\n",
    "\n",
    "if p > THRESHOLD:\n",
    "    print(\"Гипотеза принимается.\")\n",
    "else:\n",
    "    print(\"Гипотеза отвергается\")\n"
   ],
   "id": "9f55ddde6c0555ce",
   "outputs": [
    {
     "name": "stdout",
     "output_type": "stream",
     "text": [
      "K = 0.5097999999999969\n",
      "p = 0.916733179324492\n",
      "Гипотеза принимается.\n"
     ]
    }
   ],
   "execution_count": 361
  },
  {
   "metadata": {},
   "cell_type": "markdown",
   "source": [
    "### Задание 2.\n",
    "Непрерывная случайная величина ξ распределена по экспоненциальному закону с параметром λ соответствующим данным варианта. Построив генератор псевдослучайных чисел, получить 10000 чисел, имитирующих поведение ξ. Разбить выборку на интервалы и построить гистограмму частот. Вывести средние арифметическое значений выборки и проверить  на уровне значимости 0,05 соответствие полученных данных показательному распределению с параметром λ. Здесь λ определяется номер по списку разделить на 4."
   ],
   "id": "5feaafa3db8f6f"
  },
  {
   "metadata": {
    "ExecuteTime": {
     "end_time": "2025-05-03T20:57:33.109704Z",
     "start_time": "2025-05-03T20:57:33.104200Z"
    }
   },
   "cell_type": "code",
   "source": [
    "variant = 9\n",
    "lambda_value = variant / 4\n",
    "print(f'\\u03BB = {lambda_value}')"
   ],
   "id": "c73200dfbe77c7f9",
   "outputs": [
    {
     "name": "stdout",
     "output_type": "stream",
     "text": [
      "λ = 2.25\n"
     ]
    }
   ],
   "execution_count": 362
  },
  {
   "metadata": {
    "ExecuteTime": {
     "end_time": "2025-05-03T20:57:33.311705Z",
     "start_time": "2025-05-03T20:57:33.146201Z"
    }
   },
   "cell_type": "code",
   "source": [
    "y = np.random.rand(N)\n",
    "x = -(1 / lambda_value) *  np.log(y)\n",
    "\n",
    "f_fact, edges, _ = plt.hist(x, np.log2(N).astype(int) + 1)\n",
    "plt.xlabel(\"Значение случайной величины\")\n",
    "plt.ylabel(\"Частота появления\")\n",
    "plt.show()\n",
    "print(\"Частоты появления: \", f_fact.astype(int))"
   ],
   "id": "33cf3ad573e12c08",
   "outputs": [
    {
     "data": {
      "text/plain": [
       "<Figure size 640x480 with 1 Axes>"
      ],
      "image/png": "[encoded data removed]"
     },
     "metadata": {},
     "output_type": "display_data"
    },
    {
     "name": "stdout",
     "output_type": "stream",
     "text": [
      "Частоты появления:  [4449 2464 1373  801  388  254  115   59   40   26   12    7    8    4]\n"
     ]
    }
   ],
   "execution_count": 363
  },
  {
   "metadata": {
    "ExecuteTime": {
     "end_time": "2025-05-03T20:57:33.338701Z",
     "start_time": "2025-05-03T20:57:33.332705Z"
    }
   },
   "cell_type": "code",
   "source": "print(f\"Среднее арифметическое: {np.average(x)}\")",
   "id": "167ed808b354af4c",
   "outputs": [
    {
     "name": "stdout",
     "output_type": "stream",
     "text": [
      "Среднее арифметическое: 0.44624579422547256\n"
     ]
    }
   ],
   "execution_count": 364
  },
  {
   "metadata": {},
   "cell_type": "markdown",
   "source": "Слияние интервалов, чтобы в каждом было не менее 5 значений",
   "id": "180ccc4caedfe5a8"
  },
  {
   "metadata": {
    "ExecuteTime": {
     "end_time": "2025-05-03T20:57:33.386901Z",
     "start_time": "2025-05-03T20:57:33.381398Z"
    }
   },
   "cell_type": "code",
   "source": [
    "MIN_VALUES = 5\n",
    "\n",
    "for i in reversed(range(len(f_fact))):\n",
    "    if f_fact[i] < MIN_VALUES:\n",
    "        f_fact[i - 1] += f_fact[i]\n",
    "        f_fact = np.delete(f_fact, i)\n",
    "        edges = np.delete(edges, i)\n",
    "\n",
    "print(\"Частоты появления: \", f_fact.astype(int))"
   ],
   "id": "c3a9a06533514b9b",
   "outputs": [
    {
     "name": "stdout",
     "output_type": "stream",
     "text": [
      "Частоты появления:  [4449 2464 1373  801  388  254  115   59   40   26   12    7   12]\n"
     ]
    }
   ],
   "execution_count": 365
  },
  {
   "metadata": {},
   "cell_type": "markdown",
   "source": "Вычисление теоретических вероятностей и частот",
   "id": "49fb5e824b70ec50"
  },
  {
   "metadata": {
    "ExecuteTime": {
     "end_time": "2025-05-03T20:57:33.419907Z",
     "start_time": "2025-05-03T20:57:33.413899Z"
    }
   },
   "cell_type": "code",
   "source": [
    "p_exp = np.array([\n",
    "    np.exp(-lambda_value * edges[i]) - np.exp(-lambda_value * edges[i + 1])\n",
    "    for i in range(len(edges) - 1)\n",
    "])\n",
    "\n",
    "f_exp = p_exp * (N / np.sum(p_exp))\n",
    "\n",
    "print(\"Теоретические вероятности =\", p_exp.astype(float))\n",
    "print(\"Теоретические частоты =\", f_exp.astype(int))"
   ],
   "id": "2ff5332e9d5ccd48",
   "outputs": [
    {
     "name": "stdout",
     "output_type": "stream",
     "text": [
      "Теоретические вероятности = [0.44753221 0.24724094 0.13658923 0.07545926 0.04168777 0.02303057\n",
      " 0.01272333 0.00702905 0.00388323 0.0021453  0.00118518 0.00065476\n",
      " 0.00056156]\n",
      "Теоретические частоты = [4476 2473 1366  754  416  230  127   70   38   21   11    6    5]\n"
     ]
    }
   ],
   "execution_count": 366
  },
  {
   "metadata": {},
   "cell_type": "markdown",
   "source": "#### Проверка гипотезы о показательном распределении",
   "id": "15c35dc0ba589777"
  },
  {
   "metadata": {
    "ExecuteTime": {
     "end_time": "2025-05-03T20:57:33.450405Z",
     "start_time": "2025-05-03T20:57:33.443899Z"
    }
   },
   "cell_type": "code",
   "source": [
    "THRESHOLD = 0.05\n",
    "\n",
    "k, p = chisquare(f_fact, f_exp, ddof=1)\n",
    "\n",
    "print(f\"K = {k}\")\n",
    "print(f\"p = {p}\")\n",
    "\n",
    "if p > THRESHOLD:\n",
    "    print(\"Гипотеза принимается.\")\n",
    "else:\n",
    "    print(\"Гипотеза отвергается\")"
   ],
   "id": "31bb91440b9ce121",
   "outputs": [
    {
     "name": "stdout",
     "output_type": "stream",
     "text": [
      "K = 18.786761336176568\n",
      "p = 0.06503026344708726\n",
      "Гипотеза принимается.\n"
     ]
    }
   ],
   "execution_count": 367
  },
  {
   "metadata": {},
   "cell_type": "markdown",
   "source": [
    "## Вывод\n",
    "\n",
    "В ходе лабораторной работы было сымитировано поведение ДСВ с нормальным распределением и НСВ с показательным распределением. Полученные распределения были проверены при уровне значимости 0.05."
   ],
   "id": "b6a598e8b69170fc"
  }
 ],
 "metadata": {
  "kernelspec": {
   "display_name": "Python 3",
   "language": "python",
   "name": "python3"
  },
  "language_info": {
   "codemirror_mode": {
    "name": "ipython",
    "version": 2
   },
   "file_extension": ".py",
   "mimetype": "text/x-python",
   "name": "python",
   "nbconvert_exporter": "python",
   "pygments_lexer": "ipython2",
   "version": "2.7.6"
  }
 },
 "nbformat": 4,
 "nbformat_minor": 5
}
