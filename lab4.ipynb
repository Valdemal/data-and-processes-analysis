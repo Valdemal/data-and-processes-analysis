{
 "cells": [
  {
   "metadata": {},
   "cell_type": "markdown",
   "source": [
    "# Анализ данных и процессов\n",
    "## Лабораторная работа №4. Поток событий без отказов (с очередью).\n",
    "### Исходные данные.\n",
    "На сервере есть n каналов передачи сообщений. Среднее время обработки сообщений τ минут. На сервер поступают сообщения в среднем количестве λ сообщений в минуту.  Параметры варианта определяются по формулам: n=3+[(i+j)/8], λ=1+i/4, τ=5/(5+j). Здесь квадратные скобки означают взятие целой части, а i,j - последние цифры зачетки. Для хранения сообщений в очереди на сервере выделено место для $(n+1)$ сообщения. "
   ],
   "id": "8251a659b3e9fec1"
  },
  {
   "metadata": {
    "ExecuteTime": {
     "end_time": "2025-05-07T12:35:32.894692Z",
     "start_time": "2025-05-07T12:35:32.886686Z"
    }
   },
   "cell_type": "code",
   "source": [
    "i, j, = 2, 3\n",
    "\n",
    "N = 3 + round((i + j) / 8)\n",
    "LAMBDA = 1 + i / 4\n",
    "TAU = 5 / (5 + j)\n",
    "M = N + 1\n",
    "\n",
    "print(\"Количество каналов N:\", N)\n",
    "print(\"Максимальное количество сообщений в очереди M:\", M)\n",
    "print(\"Интенсивность потока событий λ:\", LAMBDA)\n",
    "print(\"Среднее время обслуживания τ:\", TAU)"
   ],
   "id": "e4e98c163cc6f1f6",
   "outputs": [
    {
     "name": "stdout",
     "output_type": "stream",
     "text": [
      "Количество каналов N: 4\n",
      "Максимальное количество сообщений в очереди M: 5\n",
      "Интенсивность потока событий λ: 1.5\n",
      "Среднее время обслуживания τ: 0.625\n"
     ]
    }
   ],
   "execution_count": 1
  },
  {
   "metadata": {},
   "cell_type": "markdown",
   "source": [
    "### Задание 1. Определить основные характеристики сервера.\n",
    "$P$ - вероятность очереди;\n",
    "\n",
    "$k$ - среднее число занятых каналов;\n",
    "\n",
    "$L_{оч}$ - средняя длина очереди;\n",
    "\n",
    "$L_{сист}$ - среднее число сообщений на сервере;"
   ],
   "id": "a19228a0563383be"
  },
  {
   "metadata": {
    "ExecuteTime": {
     "end_time": "2025-05-07T12:35:32.927682Z",
     "start_time": "2025-05-07T12:35:32.922185Z"
    }
   },
   "cell_type": "code",
   "source": [
    "MU = 1 / TAU\n",
    "print(\"Скорость обработки сообщений μ:\", MU)\n",
    "RHO = LAMBDA / MU\n",
    "print(\"Интенсивность потока ρ:\", RHO)"
   ],
   "id": "8770ad06ed95d609",
   "outputs": [
    {
     "name": "stdout",
     "output_type": "stream",
     "text": [
      "Скорость обработки сообщений μ: 1.6\n",
      "Интенсивность потока ρ: 0.9375\n"
     ]
    }
   ],
   "execution_count": 2
  },
  {
   "metadata": {
    "ExecuteTime": {
     "end_time": "2025-05-07T12:35:33.147187Z",
     "start_time": "2025-05-07T12:35:33.136186Z"
    }
   },
   "cell_type": "code",
   "source": [
    "import math\n",
    "\n",
    "p = [math.pow(\n",
    "    sum(RHO ** i / math.factorial(i) for i in range(N + 1)) +\n",
    "    (RHO ** (N + 1) * (1 - (RHO / N) ** M)) / (N * math.factorial(N) * (1 - RHO / N)), -1\n",
    ")]\n",
    "\n",
    "for i in range(1, N + 1):\n",
    "    p.append((RHO / i) * p[i - 1])\n",
    "    \n",
    "for i in range(N + 1, N + M + 1):\n",
    "    p.append((RHO / N) * p[i - 1])\n",
    "\n",
    "print(p)"
   ],
   "id": "2b4be2a79b840ab",
   "outputs": [
    {
     "name": "stdout",
     "output_type": "stream",
     "text": [
      "[0.3911881307216403, 0.3667388725515378, 0.17190884650853336, 0.05372151453391667, 0.01259097996888672, 0.002951010930207825, 0.000691643186767459, 0.00016210387189862318, 3.799309497623981e-05, 8.904631635056206e-06]\n"
     ]
    }
   ],
   "execution_count": 3
  },
  {
   "metadata": {
    "ExecuteTime": {
     "end_time": "2025-05-07T12:35:33.294188Z",
     "start_time": "2025-05-07T12:35:33.187190Z"
    }
   },
   "cell_type": "code",
   "source": [
    "import numpy as np\n",
    "\n",
    "p_reject = p[-1]\n",
    "q = 1 - p_reject\n",
    "a = LAMBDA * q\n",
    "k = RHO * q\n",
    "\n",
    "l_queue = p[N + 1] * (1 - (M + 1 - M * (RHO / N)) * (RHO / N) ** M) / (1 - RHO / N) ** 2\n",
    "l_system = k + l_queue\n",
    "\n",
    "print(\"Вероятность отказа в обработке p:\", p_reject)\n",
    "print(f\"Относительная пропускная способность Q: {q} ({q * 100}%)\")\n",
    "print(\"Абсолютная пропускная способность A:\", a)\n",
    "print(\"Среднее количество занятых каналов k:\", k)\n",
    "print(\"Средняя длина очереди L_оч:\", l_queue)\n",
    "print(\"среднее число сообщений на сервере L_сист:\", l_system)"
   ],
   "id": "4b1965a219afe331",
   "outputs": [
    {
     "name": "stdout",
     "output_type": "stream",
     "text": [
      "Вероятность отказа в обработке p: 8.904631635056206e-06\n",
      "Относительная пропускная способность Q: 0.999991095368365 (99.9991095368365%)\n",
      "Абсолютная пропускная способность A: 1.4999866430525475\n",
      "Среднее количество занятых каналов k: 0.9374916519078421\n",
      "Средняя длина очереди L_оч: 0.005017104457518852\n",
      "среднее число сообщений на сервере L_сист: 0.942508756365361\n"
     ]
    }
   ],
   "execution_count": 4
  },
  {
   "metadata": {},
   "cell_type": "markdown",
   "source": "### Задание 2. Написать программу, которая имитирует поведение сервера и вычисляет его основные характеристики.",
   "id": "a8931c07d41e2f4b"
  },
  {
   "metadata": {},
   "cell_type": "markdown",
   "source": "#### Класс симулятора",
   "id": "90a74a5b917206a6"
  },
  {
   "metadata": {
    "ExecuteTime": {
     "end_time": "2025-05-07T12:35:33.321687Z",
     "start_time": "2025-05-07T12:35:33.310690Z"
    }
   },
   "cell_type": "code",
   "source": [
    "from dataclasses import dataclass\n",
    "from typing import Generator\n",
    "\n",
    "@dataclass\n",
    "class State:\n",
    "    busy_channels: int\n",
    "    time: float\n",
    "    queue_count: int\n",
    "\n",
    "\n",
    "class ServerSimulator:\n",
    "    def __init__(self, time_limit: float, max_channels: int, queue_length: int):\n",
    "        self._time_limit = time_limit\n",
    "        self._max_channels = max_channels\n",
    "        self._queue_length = queue_length\n",
    "\n",
    "    def iter_states(self) -> Generator:\n",
    "        yield (current_state := State(0, 0, 0))\n",
    "\n",
    "        while current_state.time < self._time_limit:\n",
    "            next_arrive_delta_time = -np.log(1 - np.random.random()) / LAMBDA\n",
    "            next_processed_delta_time = np.inf\n",
    "\n",
    "            if current_state.busy_channels > 0:\n",
    "                next_processed_delta_time = -np.log(1 - np.random.random()) / (current_state.busy_channels * MU)\n",
    "\n",
    "            if next_arrive_delta_time < next_processed_delta_time:\n",
    "                if current_state.busy_channels < self._max_channels:\n",
    "                    yield (current_state := State(current_state.busy_channels + 1, current_state.time + next_arrive_delta_time, current_state.queue_count))\n",
    "            \n",
    "                elif current_state.queue_count < self._queue_length:\n",
    "                    yield (current_state := State(current_state.busy_channels, current_state.time + next_arrive_delta_time, current_state.queue_count + 1))\n",
    "                    \n",
    "                else:\n",
    "                    yield (current_state := State(current_state.busy_channels, current_state.time + next_arrive_delta_time, current_state.queue_count))\n",
    "            \n",
    "            else:\n",
    "                if current_state.queue_count > 0:\n",
    "                    current_state.queue_count -= 1\n",
    "                else:\n",
    "                    current_state.busy_channels -= 1\n",
    "                \n",
    "                yield (current_state := State(current_state.busy_channels, current_state.time + next_processed_delta_time, current_state.queue_count))\n",
    "                "
   ],
   "id": "dc2bd753ed4a11bf",
   "outputs": [],
   "execution_count": 5
  },
  {
   "metadata": {},
   "cell_type": "markdown",
   "source": "#### Имитация обработки событий сервером",
   "id": "b43c490ef6a58968"
  },
  {
   "metadata": {
    "ExecuteTime": {
     "end_time": "2025-05-07T12:36:21.235190Z",
     "start_time": "2025-05-07T12:35:33.359189Z"
    }
   },
   "cell_type": "code",
   "source": [
    "import itertools\n",
    "\n",
    "ITERS_COUNT = 10000\n",
    "TIME_LIMIT = 200\n",
    "\n",
    "simulator = ServerSimulator(TIME_LIMIT, N, M)\n",
    "\n",
    "channels_durations = np.zeros((ITERS_COUNT, N + 1))\n",
    "queue_durations = np.zeros((ITERS_COUNT, M + 1))\n",
    "all_durations = np.zeros((ITERS_COUNT, N + M + 1))\n",
    "\n",
    "for index in range(ITERS_COUNT):\n",
    "    for previous, current in itertools.pairwise(simulator.iter_states()):\n",
    "        time_delta = current.time - previous.time\n",
    "        \n",
    "        channels_durations[index][current.busy_channels] += time_delta\n",
    "        queue_durations[index][current.queue_count] += time_delta\n",
    "        all_durations[index][current.busy_channels + current.queue_count] += time_delta\n",
    "        "
   ],
   "id": "7230c15e808dd2d8",
   "outputs": [],
   "execution_count": 6
  },
  {
   "metadata": {},
   "cell_type": "markdown",
   "source": "#### Вычисление фактических характеристик сервера",
   "id": "2e2c74f45b962183"
  },
  {
   "metadata": {
    "ExecuteTime": {
     "end_time": "2025-05-07T12:36:21.261183Z",
     "start_time": "2025-05-07T12:36:21.252698Z"
    }
   },
   "cell_type": "code",
   "source": [
    "prob_busy_channels = np.mean(np.array(channels_durations) / TIME_LIMIT, axis=0)\n",
    "prob_queue_length = np.mean(np.array(queue_durations) / TIME_LIMIT, axis=0)\n",
    "\n",
    "p_fact = np.mean(np.array(all_durations) / TIME_LIMIT, axis=0)\n",
    "k_fact = np.sum(np.array(range(N + 1)) * prob_busy_channels)\n",
    "l_queue_fact = np.sum(np.array(range(M + 1)) * prob_queue_length)\n",
    "l_system_fact = k_fact + l_queue_fact"
   ],
   "id": "5bde63ebfec60e1f",
   "outputs": [],
   "execution_count": 7
  },
  {
   "metadata": {},
   "cell_type": "markdown",
   "source": "### Задание 3. Сравнить результаты.",
   "id": "5128d9e4986ef18b"
  },
  {
   "metadata": {
    "ExecuteTime": {
     "end_time": "2025-05-07T12:36:21.664684Z",
     "start_time": "2025-05-07T12:36:21.285188Z"
    }
   },
   "cell_type": "code",
   "source": [
    "import pandas as pd\n",
    "\n",
    "pd.DataFrame(np.vstack((p, p_fact)).transpose(), columns=[\"Ожидаемые\", \"Фактические\"])"
   ],
   "id": "2abfe81db6d9f135",
   "outputs": [
    {
     "data": {
      "text/plain": [
       "   Ожидаемые  Фактические\n",
       "0   0.391188     0.189529\n",
       "1   0.366739     0.510301\n",
       "2   0.171909     0.218246\n",
       "3   0.053722     0.065009\n",
       "4   0.012591     0.015155\n",
       "5   0.002951     0.002936\n",
       "6   0.000692     0.000718\n",
       "7   0.000162     0.000171\n",
       "8   0.000038     0.000039\n",
       "9   0.000009     0.000008"
      ],
      "text/html": [
       "<div>\n",
       "<style scoped>\n",
       "    .dataframe tbody tr th:only-of-type {\n",
       "        vertical-align: middle;\n",
       "    }\n",
       "\n",
       "    .dataframe tbody tr th {\n",
       "        vertical-align: top;\n",
       "    }\n",
       "\n",
       "    .dataframe thead th {\n",
       "        text-align: right;\n",
       "    }\n",
       "</style>\n",
       "<table border=\"1\" class=\"dataframe\">\n",
       "  <thead>\n",
       "    <tr style=\"text-align: right;\">\n",
       "      <th></th>\n",
       "      <th>Ожидаемые</th>\n",
       "      <th>Фактические</th>\n",
       "    </tr>\n",
       "  </thead>\n",
       "  <tbody>\n",
       "    <tr>\n",
       "      <th>0</th>\n",
       "      <td>0.391188</td>\n",
       "      <td>0.189529</td>\n",
       "    </tr>\n",
       "    <tr>\n",
       "      <th>1</th>\n",
       "      <td>0.366739</td>\n",
       "      <td>0.510301</td>\n",
       "    </tr>\n",
       "    <tr>\n",
       "      <th>2</th>\n",
       "      <td>0.171909</td>\n",
       "      <td>0.218246</td>\n",
       "    </tr>\n",
       "    <tr>\n",
       "      <th>3</th>\n",
       "      <td>0.053722</td>\n",
       "      <td>0.065009</td>\n",
       "    </tr>\n",
       "    <tr>\n",
       "      <th>4</th>\n",
       "      <td>0.012591</td>\n",
       "      <td>0.015155</td>\n",
       "    </tr>\n",
       "    <tr>\n",
       "      <th>5</th>\n",
       "      <td>0.002951</td>\n",
       "      <td>0.002936</td>\n",
       "    </tr>\n",
       "    <tr>\n",
       "      <th>6</th>\n",
       "      <td>0.000692</td>\n",
       "      <td>0.000718</td>\n",
       "    </tr>\n",
       "    <tr>\n",
       "      <th>7</th>\n",
       "      <td>0.000162</td>\n",
       "      <td>0.000171</td>\n",
       "    </tr>\n",
       "    <tr>\n",
       "      <th>8</th>\n",
       "      <td>0.000038</td>\n",
       "      <td>0.000039</td>\n",
       "    </tr>\n",
       "    <tr>\n",
       "      <th>9</th>\n",
       "      <td>0.000009</td>\n",
       "      <td>0.000008</td>\n",
       "    </tr>\n",
       "  </tbody>\n",
       "</table>\n",
       "</div>"
      ]
     },
     "execution_count": 8,
     "metadata": {},
     "output_type": "execute_result"
    }
   ],
   "execution_count": 8
  },
  {
   "metadata": {
    "ExecuteTime": {
     "end_time": "2025-05-07T12:36:21.801198Z",
     "start_time": "2025-05-07T12:36:21.785187Z"
    }
   },
   "cell_type": "code",
   "source": [
    "pd.DataFrame(np.array([\n",
    "    [k, k_fact],\n",
    "    [l_queue, l_queue_fact],\n",
    "    [l_system, l_system_fact],\n",
    "]), index=[\"k\", \"L_оч\", \"L_сист\"], columns=[\"Ожидаемые\", \"Фактические\"])"
   ],
   "id": "1955ce976bdb3031",
   "outputs": [
    {
     "data": {
      "text/plain": [
       "        Ожидаемые  Фактические\n",
       "k        0.937492     1.217930\n",
       "L_оч     0.005017     0.005083\n",
       "L_сист   0.942509     1.223012"
      ],
      "text/html": [
       "<div>\n",
       "<style scoped>\n",
       "    .dataframe tbody tr th:only-of-type {\n",
       "        vertical-align: middle;\n",
       "    }\n",
       "\n",
       "    .dataframe tbody tr th {\n",
       "        vertical-align: top;\n",
       "    }\n",
       "\n",
       "    .dataframe thead th {\n",
       "        text-align: right;\n",
       "    }\n",
       "</style>\n",
       "<table border=\"1\" class=\"dataframe\">\n",
       "  <thead>\n",
       "    <tr style=\"text-align: right;\">\n",
       "      <th></th>\n",
       "      <th>Ожидаемые</th>\n",
       "      <th>Фактические</th>\n",
       "    </tr>\n",
       "  </thead>\n",
       "  <tbody>\n",
       "    <tr>\n",
       "      <th>k</th>\n",
       "      <td>0.937492</td>\n",
       "      <td>1.217930</td>\n",
       "    </tr>\n",
       "    <tr>\n",
       "      <th>L_оч</th>\n",
       "      <td>0.005017</td>\n",
       "      <td>0.005083</td>\n",
       "    </tr>\n",
       "    <tr>\n",
       "      <th>L_сист</th>\n",
       "      <td>0.942509</td>\n",
       "      <td>1.223012</td>\n",
       "    </tr>\n",
       "  </tbody>\n",
       "</table>\n",
       "</div>"
      ]
     },
     "execution_count": 9,
     "metadata": {},
     "output_type": "execute_result"
    }
   ],
   "execution_count": 9
  },
  {
   "metadata": {},
   "cell_type": "markdown",
   "source": [
    "### Вывод\n",
    "В ходе выполнения лабораторной работы была спроектирована модель системы массового обслуживания с ограниенной очередью. Были теоретически рассчитаны ее ожидаемые характеристики. Затем была написана программа, имитирующая поведение системы, и получены фактические характеристики. Проведен сравнительный анализ ожидаемых и фактических характеристик."
   ],
   "id": "76c014f987f1de74"
  }
 ],
 "metadata": {
  "kernelspec": {
   "display_name": "Python 3",
   "language": "python",
   "name": "python3"
  },
  "language_info": {
   "codemirror_mode": {
    "name": "ipython",
    "version": 2
   },
   "file_extension": ".py",
   "mimetype": "text/x-python",
   "name": "python",
   "nbconvert_exporter": "python",
   "pygments_lexer": "ipython2",
   "version": "2.7.6"
  }
 },
 "nbformat": 4,
 "nbformat_minor": 5
}
