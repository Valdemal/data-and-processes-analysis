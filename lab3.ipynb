{
 "cells": [
  {
   "metadata": {},
   "cell_type": "markdown",
   "source": [
    "# Анализ данных и процессов\n",
    "## Лабораторная работа №3. Поток событий без очередей.\n",
    "### Исходные данные.\n",
    "На сервере есть n каналов передачи сообщений. Среднее время обработки сообщений τ минут. На сервер поступают сообщения в среднем количестве λ сообщений в минуту.  Параметры варианта определяются по формулам: n=3+[(i+j)/8], λ=1+i/4, τ=5/(5+j). Здесь квадратные скобки означают взятие целой части, а i,j - последние цифры зачетки."
   ],
   "id": "688807176663ea9a"
  },
  {
   "cell_type": "code",
   "id": "initial_id",
   "metadata": {
    "collapsed": true,
    "ExecuteTime": {
     "end_time": "2025-05-07T12:27:20.794924Z",
     "start_time": "2025-05-07T12:27:20.638429Z"
    }
   },
   "source": [
    "import numpy as np\n",
    "\n",
    "i, j, = 2, 3\n",
    "\n",
    "N = 3 + round((i + j) / 8)\n",
    "LAMBDA = 1 + i / 4\n",
    "TAU = 5 / (5 + j)\n",
    "\n",
    "print(\"Количество каналов N:\", N)\n",
    "print(\"Интенсивность потока событий λ:\", LAMBDA)\n",
    "print(\"Среднее время обслуживания τ:\", TAU)"
   ],
   "outputs": [
    {
     "name": "stdout",
     "output_type": "stream",
     "text": [
      "Количество каналов N: 4\n",
      "Интенсивность потока событий λ: 1.5\n",
      "Среднее время обслуживания τ: 0.625\n"
     ]
    }
   ],
   "execution_count": 1
  },
  {
   "metadata": {},
   "cell_type": "markdown",
   "source": [
    "### Задание 1. Определить основные характеристики сервера.\n",
    "$A$ - абсолютную пропускную способность, т.е. среднее число сообщений, обрабатываемых в единицу времени;\n",
    "\n",
    "$Q$ - относительную пропускную способность, т.е. среднюю долю пришедших сообщений, обрабатываемых системой;\n",
    "\n",
    "$P_{отк}$ - вероятность отказа в обработке;\n",
    "\n",
    "$k$ - среднее число занятых каналов, если сообщение получает отказ при занятости всех каналов."
   ],
   "id": "47c5b6f4ef4c7c1b"
  },
  {
   "metadata": {
    "ExecuteTime": {
     "end_time": "2025-05-07T12:27:21.102920Z",
     "start_time": "2025-05-07T12:27:21.095924Z"
    }
   },
   "cell_type": "code",
   "source": [
    "MU = 1 / TAU\n",
    "print(\"Скорость обработки сообщений μ:\", MU)\n",
    "RHO = LAMBDA / MU\n",
    "print(\"Интенсивность потока ρ:\", RHO)"
   ],
   "id": "20ba786573811eba",
   "outputs": [
    {
     "name": "stdout",
     "output_type": "stream",
     "text": [
      "Скорость обработки сообщений μ: 1.6\n",
      "Интенсивность потока ρ: 0.9375\n"
     ]
    }
   ],
   "execution_count": 2
  },
  {
   "metadata": {
    "ExecuteTime": {
     "end_time": "2025-05-07T12:27:21.173429Z",
     "start_time": "2025-05-07T12:27:21.166422Z"
    }
   },
   "cell_type": "code",
   "source": [
    "import math\n",
    "\n",
    "p = [sum(RHO ** i / math.factorial(i) for i in range(N + 1)) ** -1]\n",
    "\n",
    "\n",
    "for i in range(1, N + 1):\n",
    "    cur_p = (RHO ** i / math.factorial(i)) * p[0]\n",
    "    p.append(cur_p)\n",
    "    \n",
    "print(p)"
   ],
   "id": "8abeecc7f83e991a",
   "outputs": [
    {
     "name": "stdout",
     "output_type": "stream",
     "text": [
      "[0.392700678534593, 0.3681568861261809, 0.17257354037164732, 0.053929231366139786, 0.012639663601439012]\n"
     ]
    }
   ],
   "execution_count": 3
  },
  {
   "metadata": {
    "ExecuteTime": {
     "end_time": "2025-05-07T12:27:21.324922Z",
     "start_time": "2025-05-07T12:27:21.318419Z"
    }
   },
   "cell_type": "code",
   "source": [
    "p_reject = p[N]\n",
    "q = 1 - p_reject\n",
    "a = LAMBDA * q\n",
    "k = sum(i * p[i] for i in range(1, N + 1))\n",
    "\n",
    "print(\"Вероятность отказа в обработке p:\", p_reject)\n",
    "print(f\"Относительная пропускная способность Q: {q} ({q * 100}%)\")\n",
    "print(\"Абсолютная пропускная способность A:\", a)\n",
    "print(\"Среднее количество занятых каналов k:\", k)"
   ],
   "id": "c2f339fe92b86aaf",
   "outputs": [
    {
     "name": "stdout",
     "output_type": "stream",
     "text": [
      "Вероятность отказа в обработке p: 0.012639663601439012\n",
      "Относительная пропускная способность Q: 0.987360336398561 (98.7360336398561%)\n",
      "Абсолютная пропускная способность A: 1.4810405045978414\n",
      "Среднее количество занятых каналов k: 0.925650315373651\n"
     ]
    }
   ],
   "execution_count": 4
  },
  {
   "metadata": {},
   "cell_type": "markdown",
   "source": "### Задание 2. Написать программу, которая имитирует поведение сервера и вычисляет его основные характеристики.",
   "id": "d55b84008fb174b1"
  },
  {
   "metadata": {},
   "cell_type": "markdown",
   "source": "#### Класс симулятора",
   "id": "62de97da0922e664"
  },
  {
   "metadata": {
    "ExecuteTime": {
     "end_time": "2025-05-07T12:27:21.405421Z",
     "start_time": "2025-05-07T12:27:21.394418Z"
    }
   },
   "cell_type": "code",
   "source": [
    "from dataclasses import dataclass\n",
    "from typing import Generator\n",
    "\n",
    "@dataclass\n",
    "class State:\n",
    "    busy_channels: int\n",
    "    time: float\n",
    "\n",
    "\n",
    "class ServerSimulator:\n",
    "    def __init__(self, time_limit: float, max_channels: int):\n",
    "        self._time_limit = time_limit\n",
    "        self._max_channels = max_channels\n",
    "\n",
    "    def iter_states(self) -> Generator:\n",
    "        yield (current_state := State(0, 0))\n",
    "\n",
    "        while current_state.time < self._time_limit:\n",
    "            next_arrive_delta_time = -np.log(1 - np.random.random()) / LAMBDA\n",
    "\n",
    "            if current_state.busy_channels == 0:\n",
    "                yield (current_state := State(1, current_state.time + next_arrive_delta_time))\n",
    "            else:\n",
    "                next_processed_delta_time = -np.log(1 - np.random.random()) / (current_state.busy_channels * MU)\n",
    "\n",
    "                if next_arrive_delta_time < next_processed_delta_time:\n",
    "                    if current_state.busy_channels < self._max_channels:\n",
    "                        yield (current_state := State(current_state.busy_channels + 1,\n",
    "                                                      current_state.time + next_arrive_delta_time))\n",
    "                    else:\n",
    "                        yield (current_state := State(current_state.busy_channels,\n",
    "                                                      current_state.time + next_arrive_delta_time))\n",
    "\n",
    "                else:\n",
    "                    yield (current_state := State(current_state.busy_channels - 1,\n",
    "                                                  current_state.time + next_processed_delta_time))\n"
   ],
   "id": "d380c2f71e8e042f",
   "outputs": [],
   "execution_count": 5
  },
  {
   "metadata": {},
   "cell_type": "markdown",
   "source": "#### Имитация обработки событий сервером",
   "id": "1e37f3f167b34fea"
  },
  {
   "metadata": {
    "ExecuteTime": {
     "end_time": "2025-05-07T12:27:57.893926Z",
     "start_time": "2025-05-07T12:27:21.463925Z"
    }
   },
   "cell_type": "code",
   "source": [
    "import itertools\n",
    "\n",
    "ITERS_COUNT = 10000\n",
    "TIME_LIMIT = 200    \n",
    "\n",
    "simulator = ServerSimulator(TIME_LIMIT, N)\n",
    "durations = np.zeros((ITERS_COUNT, N + 1))\n",
    "processed_counts = np.zeros(ITERS_COUNT)\n",
    "\n",
    "for index in range(ITERS_COUNT):\n",
    "    for previous, current in itertools.pairwise(simulator.iter_states()):\n",
    "        durations[index][previous.busy_channels] += current.time - previous.time\n",
    "        if current.busy_channels < previous.busy_channels:\n",
    "            processed_counts[index] += 1\n"
   ],
   "id": "1ab117450d2fb2c2",
   "outputs": [],
   "execution_count": 6
  },
  {
   "metadata": {},
   "cell_type": "markdown",
   "source": "#### Вычисление фактических характеристик сервера",
   "id": "f4628816a926871e"
  },
  {
   "metadata": {
    "ExecuteTime": {
     "end_time": "2025-05-07T12:27:57.918420Z",
     "start_time": "2025-05-07T12:27:57.902420Z"
    }
   },
   "cell_type": "code",
   "source": [
    "COEFFICIENT = TIME_LIMIT * ITERS_COUNT\n",
    "\n",
    "p_fact = sum(durations) / COEFFICIENT\n",
    "q_fact = 1 - p_fact[N]\n",
    "a_fact = sum(processed_counts) / COEFFICIENT\n",
    "k_fact = sum(i * p_i for i, p_i in enumerate(p_fact))"
   ],
   "id": "5e0c2ebd0f6c5975",
   "outputs": [],
   "execution_count": 7
  },
  {
   "metadata": {},
   "cell_type": "markdown",
   "source": "### Задание 3. Сравнить результаты.",
   "id": "c344b5a6de79b1a6"
  },
  {
   "metadata": {},
   "cell_type": "markdown",
   "source": "#### Вероятности занятости каналов",
   "id": "a376dc8bab095802"
  },
  {
   "metadata": {
    "ExecuteTime": {
     "end_time": "2025-05-07T12:27:58.494922Z",
     "start_time": "2025-05-07T12:27:57.934921Z"
    }
   },
   "cell_type": "code",
   "source": [
    "import pandas as pd\n",
    "\n",
    "pd.DataFrame(np.vstack((p, p_fact)).transpose(), columns=[\"Ожидаемые\", \"Фактические\"])"
   ],
   "id": "490e019ac442273f",
   "outputs": [
    {
     "data": {
      "text/plain": [
       "   Ожидаемые  Фактические\n",
       "0   0.392701     0.395386\n",
       "1   0.368157     0.368427\n",
       "2   0.172574     0.172068\n",
       "3   0.053929     0.053708\n",
       "4   0.012640     0.012518"
      ],
      "text/html": [
       "<div>\n",
       "<style scoped>\n",
       "    .dataframe tbody tr th:only-of-type {\n",
       "        vertical-align: middle;\n",
       "    }\n",
       "\n",
       "    .dataframe tbody tr th {\n",
       "        vertical-align: top;\n",
       "    }\n",
       "\n",
       "    .dataframe thead th {\n",
       "        text-align: right;\n",
       "    }\n",
       "</style>\n",
       "<table border=\"1\" class=\"dataframe\">\n",
       "  <thead>\n",
       "    <tr style=\"text-align: right;\">\n",
       "      <th></th>\n",
       "      <th>Ожидаемые</th>\n",
       "      <th>Фактические</th>\n",
       "    </tr>\n",
       "  </thead>\n",
       "  <tbody>\n",
       "    <tr>\n",
       "      <th>0</th>\n",
       "      <td>0.392701</td>\n",
       "      <td>0.395386</td>\n",
       "    </tr>\n",
       "    <tr>\n",
       "      <th>1</th>\n",
       "      <td>0.368157</td>\n",
       "      <td>0.368427</td>\n",
       "    </tr>\n",
       "    <tr>\n",
       "      <th>2</th>\n",
       "      <td>0.172574</td>\n",
       "      <td>0.172068</td>\n",
       "    </tr>\n",
       "    <tr>\n",
       "      <th>3</th>\n",
       "      <td>0.053929</td>\n",
       "      <td>0.053708</td>\n",
       "    </tr>\n",
       "    <tr>\n",
       "      <th>4</th>\n",
       "      <td>0.012640</td>\n",
       "      <td>0.012518</td>\n",
       "    </tr>\n",
       "  </tbody>\n",
       "</table>\n",
       "</div>"
      ]
     },
     "execution_count": 8,
     "metadata": {},
     "output_type": "execute_result"
    }
   ],
   "execution_count": 8
  },
  {
   "metadata": {},
   "cell_type": "markdown",
   "source": "#### Другие характеристики",
   "id": "d35babf9f11b7aa"
  },
  {
   "metadata": {
    "ExecuteTime": {
     "end_time": "2025-05-07T12:27:58.585421Z",
     "start_time": "2025-05-07T12:27:58.568931Z"
    }
   },
   "cell_type": "code",
   "source": [
    "pd.DataFrame(np.array([\n",
    "    [q, q_fact],\n",
    "    [a, a_fact],\n",
    "    [k, k_fact],\n",
    "]), index=[\"Q\", \"A\", \"k\"], columns=[\"Ожидаемые\", \"Фактические\"])"
   ],
   "id": "45b47140810eec96",
   "outputs": [
    {
     "data": {
      "text/plain": [
       "   Ожидаемые  Фактические\n",
       "Q   0.987360     0.987482\n",
       "A   1.481041     1.479421\n",
       "k   0.925650     0.923759"
      ],
      "text/html": [
       "<div>\n",
       "<style scoped>\n",
       "    .dataframe tbody tr th:only-of-type {\n",
       "        vertical-align: middle;\n",
       "    }\n",
       "\n",
       "    .dataframe tbody tr th {\n",
       "        vertical-align: top;\n",
       "    }\n",
       "\n",
       "    .dataframe thead th {\n",
       "        text-align: right;\n",
       "    }\n",
       "</style>\n",
       "<table border=\"1\" class=\"dataframe\">\n",
       "  <thead>\n",
       "    <tr style=\"text-align: right;\">\n",
       "      <th></th>\n",
       "      <th>Ожидаемые</th>\n",
       "      <th>Фактические</th>\n",
       "    </tr>\n",
       "  </thead>\n",
       "  <tbody>\n",
       "    <tr>\n",
       "      <th>Q</th>\n",
       "      <td>0.987360</td>\n",
       "      <td>0.987482</td>\n",
       "    </tr>\n",
       "    <tr>\n",
       "      <th>A</th>\n",
       "      <td>1.481041</td>\n",
       "      <td>1.479421</td>\n",
       "    </tr>\n",
       "    <tr>\n",
       "      <th>k</th>\n",
       "      <td>0.925650</td>\n",
       "      <td>0.923759</td>\n",
       "    </tr>\n",
       "  </tbody>\n",
       "</table>\n",
       "</div>"
      ]
     },
     "execution_count": 9,
     "metadata": {},
     "output_type": "execute_result"
    }
   ],
   "execution_count": 9
  },
  {
   "metadata": {},
   "cell_type": "markdown",
   "source": [
    "## Вывод\n",
    "В ходе выполнения лабораторной работы была спроектирована модель системы массового обслуживания на основе простейшего потока событий. Были теоретически рассчитаны ее ожидаемые характеристики. Затем была написана программа, имитирующая поведение системы, и получены фактические характеристики. Проведен сравнительный анализ ожидаемых и фактических характеристик. "
   ],
   "id": "e0128339d55719fb"
  }
 ],
 "metadata": {
  "kernelspec": {
   "display_name": "Python 3",
   "language": "python",
   "name": "python3"
  },
  "language_info": {
   "codemirror_mode": {
    "name": "ipython",
    "version": 2
   },
   "file_extension": ".py",
   "mimetype": "text/x-python",
   "name": "python",
   "nbconvert_exporter": "python",
   "pygments_lexer": "ipython2",
   "version": "2.7.6"
  }
 },
 "nbformat": 4,
 "nbformat_minor": 5
}
