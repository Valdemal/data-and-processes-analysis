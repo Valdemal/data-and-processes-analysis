{
 "cells": [
  {
   "metadata": {},
   "cell_type": "markdown",
   "source": [
    "# Анализ данных и процессов\n",
    "## Лабораторная работа №1. Пьяница на утесе.\n",
    "### Исходные данные.\n",
    "Пьяница стоит между двумя пропастями, с одной стороны река, с другой копья. В начальный момент времени пьяница стоит на левой ноге. Его поведение задается графом марковского процесса (смотри приложенный рисунок). \n",
    "\n",
    "![](media/drunker.jpg)"
   ],
   "id": "ad6d3ab0816acb1b"
  },
  {
   "metadata": {},
   "cell_type": "markdown",
   "source": "### Задание 1. Необходимо определить среднее время жизни пьяницы и вероятность упасть в реку.",
   "id": "896fe08aa478b621"
  },
  {
   "cell_type": "code",
   "id": "initial_id",
   "metadata": {
    "collapsed": true,
    "ExecuteTime": {
     "end_time": "2025-05-04T13:56:10.250494Z",
     "start_time": "2025-05-04T13:56:10.236490Z"
    }
   },
   "source": [
    "from typing import Counter\n",
    "\n",
    "import numpy as np\n",
    "import pandas as pd\n",
    "\n",
    "i, j, k = 2, 3, 1\n",
    "\n",
    "p = np.array([\n",
    "    [1, 0, 0, 0, 0],\n",
    "    [0, 1, 0, 0, 0],\n",
    "    [i / (i + j), 0, 0, j / (i + j), 0],\n",
    "    [0, 0, i / (i + j + k), j / (i + j + k), k / (i + j + k)],\n",
    "    [0, k / (j + k), 0, j / (j + k), 0]\n",
    "])\n",
    "\n",
    "LABELS = [\"Река\", \"Копья\", \"Левая\", \"Обе\", \"Правая\"]\n",
    "pd.DataFrame(p, index=LABELS, columns=LABELS)"
   ],
   "outputs": [
    {
     "data": {
      "text/plain": [
       "        Река  Копья     Левая   Обе    Правая\n",
       "Река     1.0   0.00  0.000000  0.00  0.000000\n",
       "Копья    0.0   1.00  0.000000  0.00  0.000000\n",
       "Левая    0.4   0.00  0.000000  0.60  0.000000\n",
       "Обе      0.0   0.00  0.333333  0.50  0.166667\n",
       "Правая   0.0   0.25  0.000000  0.75  0.000000"
      ],
      "text/html": [
       "<div>\n",
       "<style scoped>\n",
       "    .dataframe tbody tr th:only-of-type {\n",
       "        vertical-align: middle;\n",
       "    }\n",
       "\n",
       "    .dataframe tbody tr th {\n",
       "        vertical-align: top;\n",
       "    }\n",
       "\n",
       "    .dataframe thead th {\n",
       "        text-align: right;\n",
       "    }\n",
       "</style>\n",
       "<table border=\"1\" class=\"dataframe\">\n",
       "  <thead>\n",
       "    <tr style=\"text-align: right;\">\n",
       "      <th></th>\n",
       "      <th>Река</th>\n",
       "      <th>Копья</th>\n",
       "      <th>Левая</th>\n",
       "      <th>Обе</th>\n",
       "      <th>Правая</th>\n",
       "    </tr>\n",
       "  </thead>\n",
       "  <tbody>\n",
       "    <tr>\n",
       "      <th>Река</th>\n",
       "      <td>1.0</td>\n",
       "      <td>0.00</td>\n",
       "      <td>0.000000</td>\n",
       "      <td>0.00</td>\n",
       "      <td>0.000000</td>\n",
       "    </tr>\n",
       "    <tr>\n",
       "      <th>Копья</th>\n",
       "      <td>0.0</td>\n",
       "      <td>1.00</td>\n",
       "      <td>0.000000</td>\n",
       "      <td>0.00</td>\n",
       "      <td>0.000000</td>\n",
       "    </tr>\n",
       "    <tr>\n",
       "      <th>Левая</th>\n",
       "      <td>0.4</td>\n",
       "      <td>0.00</td>\n",
       "      <td>0.000000</td>\n",
       "      <td>0.60</td>\n",
       "      <td>0.000000</td>\n",
       "    </tr>\n",
       "    <tr>\n",
       "      <th>Обе</th>\n",
       "      <td>0.0</td>\n",
       "      <td>0.00</td>\n",
       "      <td>0.333333</td>\n",
       "      <td>0.50</td>\n",
       "      <td>0.166667</td>\n",
       "    </tr>\n",
       "    <tr>\n",
       "      <th>Правая</th>\n",
       "      <td>0.0</td>\n",
       "      <td>0.25</td>\n",
       "      <td>0.000000</td>\n",
       "      <td>0.75</td>\n",
       "      <td>0.000000</td>\n",
       "    </tr>\n",
       "  </tbody>\n",
       "</table>\n",
       "</div>"
      ]
     },
     "execution_count": 49,
     "metadata": {},
     "output_type": "execute_result"
    }
   ],
   "execution_count": 49
  },
  {
   "metadata": {},
   "cell_type": "markdown",
   "source": "#### Получение фундаментальной матрицы",
   "id": "49f33a84a5f48df2"
  },
  {
   "metadata": {
    "ExecuteTime": {
     "end_time": "2025-05-04T13:56:10.307995Z",
     "start_time": "2025-05-04T13:56:10.296492Z"
    }
   },
   "cell_type": "code",
   "source": [
    "q = p[2:5, 2:5]\n",
    "pd.DataFrame(q, index=LABELS[2:5], columns=LABELS[2:5])"
   ],
   "id": "fa0adfe6cfdf97d1",
   "outputs": [
    {
     "data": {
      "text/plain": [
       "           Левая   Обе    Правая\n",
       "Левая   0.000000  0.60  0.000000\n",
       "Обе     0.333333  0.50  0.166667\n",
       "Правая  0.000000  0.75  0.000000"
      ],
      "text/html": [
       "<div>\n",
       "<style scoped>\n",
       "    .dataframe tbody tr th:only-of-type {\n",
       "        vertical-align: middle;\n",
       "    }\n",
       "\n",
       "    .dataframe tbody tr th {\n",
       "        vertical-align: top;\n",
       "    }\n",
       "\n",
       "    .dataframe thead th {\n",
       "        text-align: right;\n",
       "    }\n",
       "</style>\n",
       "<table border=\"1\" class=\"dataframe\">\n",
       "  <thead>\n",
       "    <tr style=\"text-align: right;\">\n",
       "      <th></th>\n",
       "      <th>Левая</th>\n",
       "      <th>Обе</th>\n",
       "      <th>Правая</th>\n",
       "    </tr>\n",
       "  </thead>\n",
       "  <tbody>\n",
       "    <tr>\n",
       "      <th>Левая</th>\n",
       "      <td>0.000000</td>\n",
       "      <td>0.60</td>\n",
       "      <td>0.000000</td>\n",
       "    </tr>\n",
       "    <tr>\n",
       "      <th>Обе</th>\n",
       "      <td>0.333333</td>\n",
       "      <td>0.50</td>\n",
       "      <td>0.166667</td>\n",
       "    </tr>\n",
       "    <tr>\n",
       "      <th>Правая</th>\n",
       "      <td>0.000000</td>\n",
       "      <td>0.75</td>\n",
       "      <td>0.000000</td>\n",
       "    </tr>\n",
       "  </tbody>\n",
       "</table>\n",
       "</div>"
      ]
     },
     "execution_count": 50,
     "metadata": {},
     "output_type": "execute_result"
    }
   ],
   "execution_count": 50
  },
  {
   "metadata": {
    "ExecuteTime": {
     "end_time": "2025-05-04T13:56:10.411998Z",
     "start_time": "2025-05-04T13:56:10.401994Z"
    }
   },
   "cell_type": "code",
   "source": [
    "n = np.linalg.inv(np.identity(len(q)) - q)\n",
    "pd.DataFrame(n, index=LABELS[2:5], columns=LABELS[2:5])"
   ],
   "id": "cf309f646a63de5e",
   "outputs": [
    {
     "data": {
      "text/plain": [
       "           Левая       Обе    Правая\n",
       "Левая   2.142857  3.428571  0.571429\n",
       "Обе     1.904762  5.714286  0.952381\n",
       "Правая  1.428571  4.285714  1.714286"
      ],
      "text/html": [
       "<div>\n",
       "<style scoped>\n",
       "    .dataframe tbody tr th:only-of-type {\n",
       "        vertical-align: middle;\n",
       "    }\n",
       "\n",
       "    .dataframe tbody tr th {\n",
       "        vertical-align: top;\n",
       "    }\n",
       "\n",
       "    .dataframe thead th {\n",
       "        text-align: right;\n",
       "    }\n",
       "</style>\n",
       "<table border=\"1\" class=\"dataframe\">\n",
       "  <thead>\n",
       "    <tr style=\"text-align: right;\">\n",
       "      <th></th>\n",
       "      <th>Левая</th>\n",
       "      <th>Обе</th>\n",
       "      <th>Правая</th>\n",
       "    </tr>\n",
       "  </thead>\n",
       "  <tbody>\n",
       "    <tr>\n",
       "      <th>Левая</th>\n",
       "      <td>2.142857</td>\n",
       "      <td>3.428571</td>\n",
       "      <td>0.571429</td>\n",
       "    </tr>\n",
       "    <tr>\n",
       "      <th>Обе</th>\n",
       "      <td>1.904762</td>\n",
       "      <td>5.714286</td>\n",
       "      <td>0.952381</td>\n",
       "    </tr>\n",
       "    <tr>\n",
       "      <th>Правая</th>\n",
       "      <td>1.428571</td>\n",
       "      <td>4.285714</td>\n",
       "      <td>1.714286</td>\n",
       "    </tr>\n",
       "  </tbody>\n",
       "</table>\n",
       "</div>"
      ]
     },
     "execution_count": 51,
     "metadata": {},
     "output_type": "execute_result"
    }
   ],
   "execution_count": 51
  },
  {
   "metadata": {},
   "cell_type": "markdown",
   "source": "#### Среднее время жизни при старте с левой ноги",
   "id": "429910a994210b7a"
  },
  {
   "metadata": {
    "ExecuteTime": {
     "end_time": "2025-05-04T13:56:10.564495Z",
     "start_time": "2025-05-04T13:56:10.559492Z"
    }
   },
   "cell_type": "code",
   "source": "print(sum(n[0]))",
   "id": "1085c688bef5ce8c",
   "outputs": [
    {
     "name": "stdout",
     "output_type": "stream",
     "text": [
      "6.142857142857141\n"
     ]
    }
   ],
   "execution_count": 52
  },
  {
   "metadata": {},
   "cell_type": "markdown",
   "source": "#### Вероятность упасть в реку",
   "id": "c6c1eed0cbdc43e9"
  },
  {
   "metadata": {
    "ExecuteTime": {
     "end_time": "2025-05-04T13:56:10.737990Z",
     "start_time": "2025-05-04T13:56:10.729994Z"
    }
   },
   "cell_type": "code",
   "source": [
    "r = p[2:5, 0:2]\n",
    "pd.DataFrame(r, index=LABELS[2:5], columns=LABELS[0:2])"
   ],
   "id": "e2994d9a58f570c0",
   "outputs": [
    {
     "data": {
      "text/plain": [
       "        Река  Копья\n",
       "Левая    0.4   0.00\n",
       "Обе      0.0   0.00\n",
       "Правая   0.0   0.25"
      ],
      "text/html": [
       "<div>\n",
       "<style scoped>\n",
       "    .dataframe tbody tr th:only-of-type {\n",
       "        vertical-align: middle;\n",
       "    }\n",
       "\n",
       "    .dataframe tbody tr th {\n",
       "        vertical-align: top;\n",
       "    }\n",
       "\n",
       "    .dataframe thead th {\n",
       "        text-align: right;\n",
       "    }\n",
       "</style>\n",
       "<table border=\"1\" class=\"dataframe\">\n",
       "  <thead>\n",
       "    <tr style=\"text-align: right;\">\n",
       "      <th></th>\n",
       "      <th>Река</th>\n",
       "      <th>Копья</th>\n",
       "    </tr>\n",
       "  </thead>\n",
       "  <tbody>\n",
       "    <tr>\n",
       "      <th>Левая</th>\n",
       "      <td>0.4</td>\n",
       "      <td>0.00</td>\n",
       "    </tr>\n",
       "    <tr>\n",
       "      <th>Обе</th>\n",
       "      <td>0.0</td>\n",
       "      <td>0.00</td>\n",
       "    </tr>\n",
       "    <tr>\n",
       "      <th>Правая</th>\n",
       "      <td>0.0</td>\n",
       "      <td>0.25</td>\n",
       "    </tr>\n",
       "  </tbody>\n",
       "</table>\n",
       "</div>"
      ]
     },
     "execution_count": 53,
     "metadata": {},
     "output_type": "execute_result"
    }
   ],
   "execution_count": 53
  },
  {
   "metadata": {
    "ExecuteTime": {
     "end_time": "2025-05-04T13:56:10.848992Z",
     "start_time": "2025-05-04T13:56:10.839992Z"
    }
   },
   "cell_type": "code",
   "source": [
    "b = np.dot(n, r)\n",
    "pd.DataFrame(b, index=LABELS[2:5], columns=LABELS[0:2])"
   ],
   "id": "f77f385a8ae65f1e",
   "outputs": [
    {
     "data": {
      "text/plain": [
       "            Река     Копья\n",
       "Левая   0.857143  0.142857\n",
       "Обе     0.761905  0.238095\n",
       "Правая  0.571429  0.428571"
      ],
      "text/html": [
       "<div>\n",
       "<style scoped>\n",
       "    .dataframe tbody tr th:only-of-type {\n",
       "        vertical-align: middle;\n",
       "    }\n",
       "\n",
       "    .dataframe tbody tr th {\n",
       "        vertical-align: top;\n",
       "    }\n",
       "\n",
       "    .dataframe thead th {\n",
       "        text-align: right;\n",
       "    }\n",
       "</style>\n",
       "<table border=\"1\" class=\"dataframe\">\n",
       "  <thead>\n",
       "    <tr style=\"text-align: right;\">\n",
       "      <th></th>\n",
       "      <th>Река</th>\n",
       "      <th>Копья</th>\n",
       "    </tr>\n",
       "  </thead>\n",
       "  <tbody>\n",
       "    <tr>\n",
       "      <th>Левая</th>\n",
       "      <td>0.857143</td>\n",
       "      <td>0.142857</td>\n",
       "    </tr>\n",
       "    <tr>\n",
       "      <th>Обе</th>\n",
       "      <td>0.761905</td>\n",
       "      <td>0.238095</td>\n",
       "    </tr>\n",
       "    <tr>\n",
       "      <th>Правая</th>\n",
       "      <td>0.571429</td>\n",
       "      <td>0.428571</td>\n",
       "    </tr>\n",
       "  </tbody>\n",
       "</table>\n",
       "</div>"
      ]
     },
     "execution_count": 54,
     "metadata": {},
     "output_type": "execute_result"
    }
   ],
   "execution_count": 54
  },
  {
   "metadata": {},
   "cell_type": "markdown",
   "source": [
    "\n",
    "### Задание 2. Написать программу, которая имитирует поведение пьяницы и выводит среднее количество переходов до падения с утеса и долю падений в реку."
   ],
   "id": "47533417eb5960c"
  },
  {
   "metadata": {},
   "cell_type": "markdown",
   "source": "#### Класс симулятора",
   "id": "b428631bb129155e"
  },
  {
   "metadata": {
    "ExecuteTime": {
     "end_time": "2025-05-04T13:56:10.983999Z",
     "start_time": "2025-05-04T13:56:10.976491Z"
    }
   },
   "cell_type": "code",
   "source": [
    "from collections import Counter\n",
    "\n",
    "\n",
    "class Simulator:\n",
    "    def __init__(self, initial_state: int, terminate_states: list[int]):\n",
    "        self._initial_state = initial_state\n",
    "        self._terminate_states = terminate_states\n",
    "\n",
    "    def __call__(self, move_matrix: np.ndarray, iters: int) -> tuple[int, Counter]:\n",
    "        steps_count = 0\n",
    "        end_state_counts = Counter(self._terminate_states)\n",
    "\n",
    "        for _ in range(iters):\n",
    "            current_state, steps = self._simulate_steps(move_matrix)\n",
    "            steps_count += steps\n",
    "            end_state_counts[current_state] += 1\n",
    "\n",
    "        return steps_count, end_state_counts\n",
    "\n",
    "    def _simulate_steps(self, move_matrix: np.ndarray):\n",
    "        current_state, steps_count = self._initial_state, 0\n",
    "\n",
    "        while current_state not in self._terminate_states:\n",
    "            current_state = self._change_state(move_matrix, current_state)\n",
    "            steps_count += 1\n",
    "\n",
    "        return current_state, steps_count\n",
    "\n",
    "    @staticmethod\n",
    "    def _change_state(move_matrix: np.ndarray, current_state: int) -> int:\n",
    "        seed, cumulative_probability = np.random.random(), 0\n",
    "\n",
    "        for index, probability in enumerate(move_matrix[current_state]):\n",
    "            cumulative_probability += probability\n",
    "            if seed < cumulative_probability:\n",
    "                return index\n",
    "            "
   ],
   "id": "c7961e9749673c84",
   "outputs": [],
   "execution_count": 55
  },
  {
   "metadata": {},
   "cell_type": "markdown",
   "source": "#### Имитация поведения пьяницы",
   "id": "49588e26d114ae44"
  },
  {
   "metadata": {
    "ExecuteTime": {
     "end_time": "2025-05-04T13:56:12.932488Z",
     "start_time": "2025-05-04T13:56:11.098992Z"
    }
   },
   "cell_type": "code",
   "source": [
    "simulator = Simulator(initial_state=2, terminate_states=[0, 1])\n",
    "N = 100000\n",
    "\n",
    "step_count, end_state_counts = simulator(p, N)\n",
    "\n",
    "average_steps = step_count / N\n",
    "print(f\"Среднее количество шагов до падения: {average_steps:.2f}\")\n",
    "print(\"Процент падений:\")\n",
    "\n",
    "for state_index, count in end_state_counts.items():\n",
    "    percentage = (count / N) * 100\n",
    "    print(f\"{LABELS[state_index]}: {count} ({percentage:.2f}%)\")"
   ],
   "id": "94ddddca7a59eef9",
   "outputs": [
    {
     "name": "stdout",
     "output_type": "stream",
     "text": [
      "Среднее количество шагов до падения: 6.17\n",
      "Процент падений:\n",
      "Река: 85641 (85.64%)\n",
      "Копья: 14361 (14.36%)\n"
     ]
    }
   ],
   "execution_count": 56
  },
  {
   "metadata": {},
   "cell_type": "markdown",
   "source": "### Задание 3. Сравнить теоретическую вероятность падению в реку с долей падения в реку критерием сравнения долей.",
   "id": "4cfa6457071d75b9"
  },
  {
   "metadata": {
    "ExecuteTime": {
     "end_time": "2025-05-04T13:56:13.013510Z",
     "start_time": "2025-05-04T13:56:13.008017Z"
    }
   },
   "cell_type": "code",
   "source": [
    "THRESHOLD = 1.96\n",
    "\n",
    "p_exp = b[0][0]\n",
    "p_fact = end_state_counts[0] / N\n",
    "\n",
    "k = np.abs((p_fact - p_exp) / ((p_fact * (1 - p_fact) / N) ** 0.5))\n",
    "\n",
    "if k < THRESHOLD:\n",
    "    print(\"Гипотеза принимается.\")\n",
    "else:\n",
    "    print(\"Гипотеза отвергается\")"
   ],
   "id": "a9d0646c72e67fb8",
   "outputs": [
    {
     "name": "stdout",
     "output_type": "stream",
     "text": [
      "Гипотеза принимается.\n"
     ]
    }
   ],
   "execution_count": 57
  },
  {
   "metadata": {},
   "cell_type": "markdown",
   "source": [
    "## Вывод\n",
    "В ходе выполнения лабораторной работы была решена задача \"Пьяница на утесе\" с помощью цепей Маркова. Сначала были построены все необходимые матрицы, затем рассчитано среднее количество переходов до падения с утеса и доля падений в реку, проведено сравнение теоретической вероятности падения с данными полученными в ходе симуляции."
   ],
   "id": "a47bc23f40eb7a82"
  }
 ],
 "metadata": {
  "kernelspec": {
   "display_name": "Python 3",
   "language": "python",
   "name": "python3"
  },
  "language_info": {
   "codemirror_mode": {
    "name": "ipython",
    "version": 2
   },
   "file_extension": ".py",
   "mimetype": "text/x-python",
   "name": "python",
   "nbconvert_exporter": "python",
   "pygments_lexer": "ipython2",
   "version": "2.7.6"
  }
 },
 "nbformat": 4,
 "nbformat_minor": 5
}
